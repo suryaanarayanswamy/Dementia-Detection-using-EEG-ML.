{
 "cells": [
  {
   "cell_type": "markdown",
   "id": "ce4d8d7f-74d1-4e62-a1e1-351369d08dd5",
   "metadata": {},
   "source": [
    "**Loading the dataset and partcipants**"
   ]
  },
  {
   "cell_type": "code",
   "execution_count": 1,
   "id": "90ec6870-ce4b-4448-8fb0-877a38eb548f",
   "metadata": {},
   "outputs": [
    {
     "name": "stdout",
     "output_type": "stream",
     "text": [
      "  participant_id  Gender   Age  Group   MMSE  \n",
      "0         sub-001       F    57      A      16\n",
      "1         sub-002       F    78      A      22\n",
      "2         sub-003       M    70      A      14\n",
      "3         sub-004       F    67      A      20\n",
      "4         sub-005       M    70      A      22\n"
     ]
    }
   ],
   "source": [
    "import pandas as pd\n",
    "\n",
    "#Load the participants csv\n",
    "participants_df = pd.read_csv(\"participants.csv\")\n",
    "\n",
    "#display the first few rows\n",
    "print(participants_df.head())"
   ]
  },
  {
   "cell_type": "code",
   "execution_count": 2,
   "id": "45a3ec9b-9e36-4181-87a6-ff61cd84782d",
   "metadata": {},
   "outputs": [
    {
     "name": "stdout",
     "output_type": "stream",
     "text": [
      "Index(['participant_id', 'Gender', 'Age', 'Group', 'MMSE'], dtype='object')\n"
     ]
    }
   ],
   "source": [
    "participants_df.columns = participants_df.columns.str.strip()\n",
    "print(participants_df.columns)\n"
   ]
  },
  {
   "cell_type": "code",
   "execution_count": 3,
   "id": "a2d76029-6ca0-4819-96ac-2c30bb524fd8",
   "metadata": {},
   "outputs": [
    {
     "name": "stderr",
     "output_type": "stream",
     "text": [
      "C:\\Users\\felix\\AppData\\Local\\Temp\\ipykernel_6548\\1997942485.py:20: RuntimeWarning: The data contains 'boundary' events, indicating data discontinuities. Be cautious of filtering and epoching around these events.\n",
      "  eeg_data = mne.io.read_raw_eeglab(os.path.join(eeg_dir, file), preload=True)\n",
      "C:\\Users\\felix\\AppData\\Local\\Temp\\ipykernel_6548\\1997942485.py:20: RuntimeWarning: The data contains 'boundary' events, indicating data discontinuities. Be cautious of filtering and epoching around these events.\n",
      "  eeg_data = mne.io.read_raw_eeglab(os.path.join(eeg_dir, file), preload=True)\n",
      "C:\\Users\\felix\\AppData\\Local\\Temp\\ipykernel_6548\\1997942485.py:20: RuntimeWarning: The data contains 'boundary' events, indicating data discontinuities. Be cautious of filtering and epoching around these events.\n",
      "  eeg_data = mne.io.read_raw_eeglab(os.path.join(eeg_dir, file), preload=True)\n",
      "C:\\Users\\felix\\AppData\\Local\\Temp\\ipykernel_6548\\1997942485.py:20: RuntimeWarning: The data contains 'boundary' events, indicating data discontinuities. Be cautious of filtering and epoching around these events.\n",
      "  eeg_data = mne.io.read_raw_eeglab(os.path.join(eeg_dir, file), preload=True)\n",
      "C:\\Users\\felix\\AppData\\Local\\Temp\\ipykernel_6548\\1997942485.py:20: RuntimeWarning: The data contains 'boundary' events, indicating data discontinuities. Be cautious of filtering and epoching around these events.\n",
      "  eeg_data = mne.io.read_raw_eeglab(os.path.join(eeg_dir, file), preload=True)\n",
      "C:\\Users\\felix\\AppData\\Local\\Temp\\ipykernel_6548\\1997942485.py:20: RuntimeWarning: The data contains 'boundary' events, indicating data discontinuities. Be cautious of filtering and epoching around these events.\n",
      "  eeg_data = mne.io.read_raw_eeglab(os.path.join(eeg_dir, file), preload=True)\n",
      "C:\\Users\\felix\\AppData\\Local\\Temp\\ipykernel_6548\\1997942485.py:20: RuntimeWarning: The data contains 'boundary' events, indicating data discontinuities. Be cautious of filtering and epoching around these events.\n",
      "  eeg_data = mne.io.read_raw_eeglab(os.path.join(eeg_dir, file), preload=True)\n",
      "C:\\Users\\felix\\AppData\\Local\\Temp\\ipykernel_6548\\1997942485.py:20: RuntimeWarning: The data contains 'boundary' events, indicating data discontinuities. Be cautious of filtering and epoching around these events.\n",
      "  eeg_data = mne.io.read_raw_eeglab(os.path.join(eeg_dir, file), preload=True)\n",
      "C:\\Users\\felix\\AppData\\Local\\Temp\\ipykernel_6548\\1997942485.py:20: RuntimeWarning: The data contains 'boundary' events, indicating data discontinuities. Be cautious of filtering and epoching around these events.\n",
      "  eeg_data = mne.io.read_raw_eeglab(os.path.join(eeg_dir, file), preload=True)\n",
      "C:\\Users\\felix\\AppData\\Local\\Temp\\ipykernel_6548\\1997942485.py:20: RuntimeWarning: The data contains 'boundary' events, indicating data discontinuities. Be cautious of filtering and epoching around these events.\n",
      "  eeg_data = mne.io.read_raw_eeglab(os.path.join(eeg_dir, file), preload=True)\n",
      "C:\\Users\\felix\\AppData\\Local\\Temp\\ipykernel_6548\\1997942485.py:20: RuntimeWarning: The data contains 'boundary' events, indicating data discontinuities. Be cautious of filtering and epoching around these events.\n",
      "  eeg_data = mne.io.read_raw_eeglab(os.path.join(eeg_dir, file), preload=True)\n",
      "C:\\Users\\felix\\AppData\\Local\\Temp\\ipykernel_6548\\1997942485.py:20: RuntimeWarning: The data contains 'boundary' events, indicating data discontinuities. Be cautious of filtering and epoching around these events.\n",
      "  eeg_data = mne.io.read_raw_eeglab(os.path.join(eeg_dir, file), preload=True)\n",
      "C:\\Users\\felix\\AppData\\Local\\Temp\\ipykernel_6548\\1997942485.py:20: RuntimeWarning: The data contains 'boundary' events, indicating data discontinuities. Be cautious of filtering and epoching around these events.\n",
      "  eeg_data = mne.io.read_raw_eeglab(os.path.join(eeg_dir, file), preload=True)\n",
      "C:\\Users\\felix\\AppData\\Local\\Temp\\ipykernel_6548\\1997942485.py:20: RuntimeWarning: The data contains 'boundary' events, indicating data discontinuities. Be cautious of filtering and epoching around these events.\n",
      "  eeg_data = mne.io.read_raw_eeglab(os.path.join(eeg_dir, file), preload=True)\n",
      "C:\\Users\\felix\\AppData\\Local\\Temp\\ipykernel_6548\\1997942485.py:20: RuntimeWarning: The data contains 'boundary' events, indicating data discontinuities. Be cautious of filtering and epoching around these events.\n",
      "  eeg_data = mne.io.read_raw_eeglab(os.path.join(eeg_dir, file), preload=True)\n",
      "C:\\Users\\felix\\AppData\\Local\\Temp\\ipykernel_6548\\1997942485.py:20: RuntimeWarning: The data contains 'boundary' events, indicating data discontinuities. Be cautious of filtering and epoching around these events.\n",
      "  eeg_data = mne.io.read_raw_eeglab(os.path.join(eeg_dir, file), preload=True)\n",
      "C:\\Users\\felix\\AppData\\Local\\Temp\\ipykernel_6548\\1997942485.py:20: RuntimeWarning: The data contains 'boundary' events, indicating data discontinuities. Be cautious of filtering and epoching around these events.\n",
      "  eeg_data = mne.io.read_raw_eeglab(os.path.join(eeg_dir, file), preload=True)\n",
      "C:\\Users\\felix\\AppData\\Local\\Temp\\ipykernel_6548\\1997942485.py:20: RuntimeWarning: The data contains 'boundary' events, indicating data discontinuities. Be cautious of filtering and epoching around these events.\n",
      "  eeg_data = mne.io.read_raw_eeglab(os.path.join(eeg_dir, file), preload=True)\n",
      "C:\\Users\\felix\\AppData\\Local\\Temp\\ipykernel_6548\\1997942485.py:20: RuntimeWarning: The data contains 'boundary' events, indicating data discontinuities. Be cautious of filtering and epoching around these events.\n",
      "  eeg_data = mne.io.read_raw_eeglab(os.path.join(eeg_dir, file), preload=True)\n",
      "C:\\Users\\felix\\AppData\\Local\\Temp\\ipykernel_6548\\1997942485.py:20: RuntimeWarning: The data contains 'boundary' events, indicating data discontinuities. Be cautious of filtering and epoching around these events.\n",
      "  eeg_data = mne.io.read_raw_eeglab(os.path.join(eeg_dir, file), preload=True)\n",
      "C:\\Users\\felix\\AppData\\Local\\Temp\\ipykernel_6548\\1997942485.py:20: RuntimeWarning: The data contains 'boundary' events, indicating data discontinuities. Be cautious of filtering and epoching around these events.\n",
      "  eeg_data = mne.io.read_raw_eeglab(os.path.join(eeg_dir, file), preload=True)\n",
      "C:\\Users\\felix\\AppData\\Local\\Temp\\ipykernel_6548\\1997942485.py:20: RuntimeWarning: The data contains 'boundary' events, indicating data discontinuities. Be cautious of filtering and epoching around these events.\n",
      "  eeg_data = mne.io.read_raw_eeglab(os.path.join(eeg_dir, file), preload=True)\n",
      "C:\\Users\\felix\\AppData\\Local\\Temp\\ipykernel_6548\\1997942485.py:20: RuntimeWarning: The data contains 'boundary' events, indicating data discontinuities. Be cautious of filtering and epoching around these events.\n",
      "  eeg_data = mne.io.read_raw_eeglab(os.path.join(eeg_dir, file), preload=True)\n",
      "C:\\Users\\felix\\AppData\\Local\\Temp\\ipykernel_6548\\1997942485.py:20: RuntimeWarning: The data contains 'boundary' events, indicating data discontinuities. Be cautious of filtering and epoching around these events.\n",
      "  eeg_data = mne.io.read_raw_eeglab(os.path.join(eeg_dir, file), preload=True)\n",
      "C:\\Users\\felix\\AppData\\Local\\Temp\\ipykernel_6548\\1997942485.py:20: RuntimeWarning: The data contains 'boundary' events, indicating data discontinuities. Be cautious of filtering and epoching around these events.\n",
      "  eeg_data = mne.io.read_raw_eeglab(os.path.join(eeg_dir, file), preload=True)\n",
      "C:\\Users\\felix\\AppData\\Local\\Temp\\ipykernel_6548\\1997942485.py:20: RuntimeWarning: The data contains 'boundary' events, indicating data discontinuities. Be cautious of filtering and epoching around these events.\n",
      "  eeg_data = mne.io.read_raw_eeglab(os.path.join(eeg_dir, file), preload=True)\n",
      "C:\\Users\\felix\\AppData\\Local\\Temp\\ipykernel_6548\\1997942485.py:20: RuntimeWarning: The data contains 'boundary' events, indicating data discontinuities. Be cautious of filtering and epoching around these events.\n",
      "  eeg_data = mne.io.read_raw_eeglab(os.path.join(eeg_dir, file), preload=True)\n",
      "C:\\Users\\felix\\AppData\\Local\\Temp\\ipykernel_6548\\1997942485.py:20: RuntimeWarning: The data contains 'boundary' events, indicating data discontinuities. Be cautious of filtering and epoching around these events.\n",
      "  eeg_data = mne.io.read_raw_eeglab(os.path.join(eeg_dir, file), preload=True)\n",
      "C:\\Users\\felix\\AppData\\Local\\Temp\\ipykernel_6548\\1997942485.py:20: RuntimeWarning: The data contains 'boundary' events, indicating data discontinuities. Be cautious of filtering and epoching around these events.\n",
      "  eeg_data = mne.io.read_raw_eeglab(os.path.join(eeg_dir, file), preload=True)\n",
      "C:\\Users\\felix\\AppData\\Local\\Temp\\ipykernel_6548\\1997942485.py:20: RuntimeWarning: The data contains 'boundary' events, indicating data discontinuities. Be cautious of filtering and epoching around these events.\n",
      "  eeg_data = mne.io.read_raw_eeglab(os.path.join(eeg_dir, file), preload=True)\n",
      "C:\\Users\\felix\\AppData\\Local\\Temp\\ipykernel_6548\\1997942485.py:20: RuntimeWarning: The data contains 'boundary' events, indicating data discontinuities. Be cautious of filtering and epoching around these events.\n",
      "  eeg_data = mne.io.read_raw_eeglab(os.path.join(eeg_dir, file), preload=True)\n",
      "C:\\Users\\felix\\AppData\\Local\\Temp\\ipykernel_6548\\1997942485.py:20: RuntimeWarning: The data contains 'boundary' events, indicating data discontinuities. Be cautious of filtering and epoching around these events.\n",
      "  eeg_data = mne.io.read_raw_eeglab(os.path.join(eeg_dir, file), preload=True)\n",
      "C:\\Users\\felix\\AppData\\Local\\Temp\\ipykernel_6548\\1997942485.py:20: RuntimeWarning: The data contains 'boundary' events, indicating data discontinuities. Be cautious of filtering and epoching around these events.\n",
      "  eeg_data = mne.io.read_raw_eeglab(os.path.join(eeg_dir, file), preload=True)\n",
      "C:\\Users\\felix\\AppData\\Local\\Temp\\ipykernel_6548\\1997942485.py:20: RuntimeWarning: The data contains 'boundary' events, indicating data discontinuities. Be cautious of filtering and epoching around these events.\n",
      "  eeg_data = mne.io.read_raw_eeglab(os.path.join(eeg_dir, file), preload=True)\n",
      "C:\\Users\\felix\\AppData\\Local\\Temp\\ipykernel_6548\\1997942485.py:20: RuntimeWarning: The data contains 'boundary' events, indicating data discontinuities. Be cautious of filtering and epoching around these events.\n",
      "  eeg_data = mne.io.read_raw_eeglab(os.path.join(eeg_dir, file), preload=True)\n",
      "C:\\Users\\felix\\AppData\\Local\\Temp\\ipykernel_6548\\1997942485.py:20: RuntimeWarning: The data contains 'boundary' events, indicating data discontinuities. Be cautious of filtering and epoching around these events.\n",
      "  eeg_data = mne.io.read_raw_eeglab(os.path.join(eeg_dir, file), preload=True)\n",
      "C:\\Users\\felix\\AppData\\Local\\Temp\\ipykernel_6548\\1997942485.py:20: RuntimeWarning: The data contains 'boundary' events, indicating data discontinuities. Be cautious of filtering and epoching around these events.\n",
      "  eeg_data = mne.io.read_raw_eeglab(os.path.join(eeg_dir, file), preload=True)\n",
      "C:\\Users\\felix\\AppData\\Local\\Temp\\ipykernel_6548\\1997942485.py:20: RuntimeWarning: The data contains 'boundary' events, indicating data discontinuities. Be cautious of filtering and epoching around these events.\n",
      "  eeg_data = mne.io.read_raw_eeglab(os.path.join(eeg_dir, file), preload=True)\n",
      "C:\\Users\\felix\\AppData\\Local\\Temp\\ipykernel_6548\\1997942485.py:20: RuntimeWarning: The data contains 'boundary' events, indicating data discontinuities. Be cautious of filtering and epoching around these events.\n",
      "  eeg_data = mne.io.read_raw_eeglab(os.path.join(eeg_dir, file), preload=True)\n",
      "C:\\Users\\felix\\AppData\\Local\\Temp\\ipykernel_6548\\1997942485.py:20: RuntimeWarning: The data contains 'boundary' events, indicating data discontinuities. Be cautious of filtering and epoching around these events.\n",
      "  eeg_data = mne.io.read_raw_eeglab(os.path.join(eeg_dir, file), preload=True)\n",
      "C:\\Users\\felix\\AppData\\Local\\Temp\\ipykernel_6548\\1997942485.py:20: RuntimeWarning: The data contains 'boundary' events, indicating data discontinuities. Be cautious of filtering and epoching around these events.\n",
      "  eeg_data = mne.io.read_raw_eeglab(os.path.join(eeg_dir, file), preload=True)\n",
      "C:\\Users\\felix\\AppData\\Local\\Temp\\ipykernel_6548\\1997942485.py:20: RuntimeWarning: The data contains 'boundary' events, indicating data discontinuities. Be cautious of filtering and epoching around these events.\n",
      "  eeg_data = mne.io.read_raw_eeglab(os.path.join(eeg_dir, file), preload=True)\n",
      "C:\\Users\\felix\\AppData\\Local\\Temp\\ipykernel_6548\\1997942485.py:20: RuntimeWarning: The data contains 'boundary' events, indicating data discontinuities. Be cautious of filtering and epoching around these events.\n",
      "  eeg_data = mne.io.read_raw_eeglab(os.path.join(eeg_dir, file), preload=True)\n",
      "C:\\Users\\felix\\AppData\\Local\\Temp\\ipykernel_6548\\1997942485.py:20: RuntimeWarning: The data contains 'boundary' events, indicating data discontinuities. Be cautious of filtering and epoching around these events.\n",
      "  eeg_data = mne.io.read_raw_eeglab(os.path.join(eeg_dir, file), preload=True)\n",
      "C:\\Users\\felix\\AppData\\Local\\Temp\\ipykernel_6548\\1997942485.py:20: RuntimeWarning: The data contains 'boundary' events, indicating data discontinuities. Be cautious of filtering and epoching around these events.\n",
      "  eeg_data = mne.io.read_raw_eeglab(os.path.join(eeg_dir, file), preload=True)\n",
      "C:\\Users\\felix\\AppData\\Local\\Temp\\ipykernel_6548\\1997942485.py:20: RuntimeWarning: The data contains 'boundary' events, indicating data discontinuities. Be cautious of filtering and epoching around these events.\n",
      "  eeg_data = mne.io.read_raw_eeglab(os.path.join(eeg_dir, file), preload=True)\n",
      "C:\\Users\\felix\\AppData\\Local\\Temp\\ipykernel_6548\\1997942485.py:20: RuntimeWarning: The data contains 'boundary' events, indicating data discontinuities. Be cautious of filtering and epoching around these events.\n",
      "  eeg_data = mne.io.read_raw_eeglab(os.path.join(eeg_dir, file), preload=True)\n",
      "C:\\Users\\felix\\AppData\\Local\\Temp\\ipykernel_6548\\1997942485.py:20: RuntimeWarning: The data contains 'boundary' events, indicating data discontinuities. Be cautious of filtering and epoching around these events.\n",
      "  eeg_data = mne.io.read_raw_eeglab(os.path.join(eeg_dir, file), preload=True)\n",
      "C:\\Users\\felix\\AppData\\Local\\Temp\\ipykernel_6548\\1997942485.py:20: RuntimeWarning: The data contains 'boundary' events, indicating data discontinuities. Be cautious of filtering and epoching around these events.\n",
      "  eeg_data = mne.io.read_raw_eeglab(os.path.join(eeg_dir, file), preload=True)\n",
      "C:\\Users\\felix\\AppData\\Local\\Temp\\ipykernel_6548\\1997942485.py:20: RuntimeWarning: The data contains 'boundary' events, indicating data discontinuities. Be cautious of filtering and epoching around these events.\n",
      "  eeg_data = mne.io.read_raw_eeglab(os.path.join(eeg_dir, file), preload=True)\n",
      "C:\\Users\\felix\\AppData\\Local\\Temp\\ipykernel_6548\\1997942485.py:20: RuntimeWarning: The data contains 'boundary' events, indicating data discontinuities. Be cautious of filtering and epoching around these events.\n",
      "  eeg_data = mne.io.read_raw_eeglab(os.path.join(eeg_dir, file), preload=True)\n",
      "C:\\Users\\felix\\AppData\\Local\\Temp\\ipykernel_6548\\1997942485.py:20: RuntimeWarning: The data contains 'boundary' events, indicating data discontinuities. Be cautious of filtering and epoching around these events.\n",
      "  eeg_data = mne.io.read_raw_eeglab(os.path.join(eeg_dir, file), preload=True)\n",
      "C:\\Users\\felix\\AppData\\Local\\Temp\\ipykernel_6548\\1997942485.py:20: RuntimeWarning: The data contains 'boundary' events, indicating data discontinuities. Be cautious of filtering and epoching around these events.\n",
      "  eeg_data = mne.io.read_raw_eeglab(os.path.join(eeg_dir, file), preload=True)\n",
      "C:\\Users\\felix\\AppData\\Local\\Temp\\ipykernel_6548\\1997942485.py:20: RuntimeWarning: The data contains 'boundary' events, indicating data discontinuities. Be cautious of filtering and epoching around these events.\n",
      "  eeg_data = mne.io.read_raw_eeglab(os.path.join(eeg_dir, file), preload=True)\n",
      "C:\\Users\\felix\\AppData\\Local\\Temp\\ipykernel_6548\\1997942485.py:20: RuntimeWarning: The data contains 'boundary' events, indicating data discontinuities. Be cautious of filtering and epoching around these events.\n",
      "  eeg_data = mne.io.read_raw_eeglab(os.path.join(eeg_dir, file), preload=True)\n",
      "C:\\Users\\felix\\AppData\\Local\\Temp\\ipykernel_6548\\1997942485.py:20: RuntimeWarning: The data contains 'boundary' events, indicating data discontinuities. Be cautious of filtering and epoching around these events.\n",
      "  eeg_data = mne.io.read_raw_eeglab(os.path.join(eeg_dir, file), preload=True)\n",
      "C:\\Users\\felix\\AppData\\Local\\Temp\\ipykernel_6548\\1997942485.py:20: RuntimeWarning: The data contains 'boundary' events, indicating data discontinuities. Be cautious of filtering and epoching around these events.\n",
      "  eeg_data = mne.io.read_raw_eeglab(os.path.join(eeg_dir, file), preload=True)\n",
      "C:\\Users\\felix\\AppData\\Local\\Temp\\ipykernel_6548\\1997942485.py:20: RuntimeWarning: The data contains 'boundary' events, indicating data discontinuities. Be cautious of filtering and epoching around these events.\n",
      "  eeg_data = mne.io.read_raw_eeglab(os.path.join(eeg_dir, file), preload=True)\n",
      "C:\\Users\\felix\\AppData\\Local\\Temp\\ipykernel_6548\\1997942485.py:20: RuntimeWarning: The data contains 'boundary' events, indicating data discontinuities. Be cautious of filtering and epoching around these events.\n",
      "  eeg_data = mne.io.read_raw_eeglab(os.path.join(eeg_dir, file), preload=True)\n",
      "C:\\Users\\felix\\AppData\\Local\\Temp\\ipykernel_6548\\1997942485.py:20: RuntimeWarning: The data contains 'boundary' events, indicating data discontinuities. Be cautious of filtering and epoching around these events.\n",
      "  eeg_data = mne.io.read_raw_eeglab(os.path.join(eeg_dir, file), preload=True)\n",
      "C:\\Users\\felix\\AppData\\Local\\Temp\\ipykernel_6548\\1997942485.py:20: RuntimeWarning: The data contains 'boundary' events, indicating data discontinuities. Be cautious of filtering and epoching around these events.\n",
      "  eeg_data = mne.io.read_raw_eeglab(os.path.join(eeg_dir, file), preload=True)\n",
      "C:\\Users\\felix\\AppData\\Local\\Temp\\ipykernel_6548\\1997942485.py:20: RuntimeWarning: The data contains 'boundary' events, indicating data discontinuities. Be cautious of filtering and epoching around these events.\n",
      "  eeg_data = mne.io.read_raw_eeglab(os.path.join(eeg_dir, file), preload=True)\n",
      "C:\\Users\\felix\\AppData\\Local\\Temp\\ipykernel_6548\\1997942485.py:20: RuntimeWarning: The data contains 'boundary' events, indicating data discontinuities. Be cautious of filtering and epoching around these events.\n",
      "  eeg_data = mne.io.read_raw_eeglab(os.path.join(eeg_dir, file), preload=True)\n",
      "C:\\Users\\felix\\AppData\\Local\\Temp\\ipykernel_6548\\1997942485.py:20: RuntimeWarning: The data contains 'boundary' events, indicating data discontinuities. Be cautious of filtering and epoching around these events.\n",
      "  eeg_data = mne.io.read_raw_eeglab(os.path.join(eeg_dir, file), preload=True)\n",
      "C:\\Users\\felix\\AppData\\Local\\Temp\\ipykernel_6548\\1997942485.py:20: RuntimeWarning: The data contains 'boundary' events, indicating data discontinuities. Be cautious of filtering and epoching around these events.\n",
      "  eeg_data = mne.io.read_raw_eeglab(os.path.join(eeg_dir, file), preload=True)\n",
      "C:\\Users\\felix\\AppData\\Local\\Temp\\ipykernel_6548\\1997942485.py:20: RuntimeWarning: The data contains 'boundary' events, indicating data discontinuities. Be cautious of filtering and epoching around these events.\n",
      "  eeg_data = mne.io.read_raw_eeglab(os.path.join(eeg_dir, file), preload=True)\n",
      "C:\\Users\\felix\\AppData\\Local\\Temp\\ipykernel_6548\\1997942485.py:20: RuntimeWarning: The data contains 'boundary' events, indicating data discontinuities. Be cautious of filtering and epoching around these events.\n",
      "  eeg_data = mne.io.read_raw_eeglab(os.path.join(eeg_dir, file), preload=True)\n",
      "C:\\Users\\felix\\AppData\\Local\\Temp\\ipykernel_6548\\1997942485.py:20: RuntimeWarning: The data contains 'boundary' events, indicating data discontinuities. Be cautious of filtering and epoching around these events.\n",
      "  eeg_data = mne.io.read_raw_eeglab(os.path.join(eeg_dir, file), preload=True)\n",
      "C:\\Users\\felix\\AppData\\Local\\Temp\\ipykernel_6548\\1997942485.py:20: RuntimeWarning: The data contains 'boundary' events, indicating data discontinuities. Be cautious of filtering and epoching around these events.\n",
      "  eeg_data = mne.io.read_raw_eeglab(os.path.join(eeg_dir, file), preload=True)\n",
      "C:\\Users\\felix\\AppData\\Local\\Temp\\ipykernel_6548\\1997942485.py:20: RuntimeWarning: The data contains 'boundary' events, indicating data discontinuities. Be cautious of filtering and epoching around these events.\n",
      "  eeg_data = mne.io.read_raw_eeglab(os.path.join(eeg_dir, file), preload=True)\n",
      "C:\\Users\\felix\\AppData\\Local\\Temp\\ipykernel_6548\\1997942485.py:20: RuntimeWarning: The data contains 'boundary' events, indicating data discontinuities. Be cautious of filtering and epoching around these events.\n",
      "  eeg_data = mne.io.read_raw_eeglab(os.path.join(eeg_dir, file), preload=True)\n",
      "C:\\Users\\felix\\AppData\\Local\\Temp\\ipykernel_6548\\1997942485.py:20: RuntimeWarning: The data contains 'boundary' events, indicating data discontinuities. Be cautious of filtering and epoching around these events.\n",
      "  eeg_data = mne.io.read_raw_eeglab(os.path.join(eeg_dir, file), preload=True)\n",
      "C:\\Users\\felix\\AppData\\Local\\Temp\\ipykernel_6548\\1997942485.py:20: RuntimeWarning: The data contains 'boundary' events, indicating data discontinuities. Be cautious of filtering and epoching around these events.\n",
      "  eeg_data = mne.io.read_raw_eeglab(os.path.join(eeg_dir, file), preload=True)\n"
     ]
    },
    {
     "name": "stdout",
     "output_type": "stream",
     "text": [
      "{'sub-001': {'eeg_data': <RawEEGLAB | sub-001_task-eyesclosed_eeg.set, 19 x 299900 (599.8 s), ~43.5 MiB, data loaded>, 'diagnosis': 'A'}, 'sub-002': {'eeg_data': <RawEEGLAB | sub-002_task-eyesclosed_eeg.set, 19 x 396550 (793.1 s), ~57.5 MiB, data loaded>, 'diagnosis': 'A'}, 'sub-003': {'eeg_data': <RawEEGLAB | sub-003_task-eyesclosed_eeg.set, 19 x 153050 (306.1 s), ~22.2 MiB, data loaded>, 'diagnosis': 'A'}, 'sub-004': {'eeg_data': <RawEEGLAB | sub-004_task-eyesclosed_eeg.set, 19 x 353050 (706.1 s), ~51.2 MiB, data loaded>, 'diagnosis': 'A'}, 'sub-005': {'eeg_data': <RawEEGLAB | sub-005_task-eyesclosed_eeg.set, 19 x 402050 (804.1 s), ~58.3 MiB, data loaded>, 'diagnosis': 'A'}, 'sub-006': {'eeg_data': <RawEEGLAB | sub-006_task-eyesclosed_eeg.set, 19 x 316200 (632.4 s), ~45.9 MiB, data loaded>, 'diagnosis': 'A'}, 'sub-007': {'eeg_data': <RawEEGLAB | sub-007_task-eyesclosed_eeg.set, 19 x 383210 (766.4 s), ~55.6 MiB, data loaded>, 'diagnosis': 'A'}, 'sub-008': {'eeg_data': <RawEEGLAB | sub-008_task-eyesclosed_eeg.set, 19 x 396700 (793.4 s), ~57.5 MiB, data loaded>, 'diagnosis': 'A'}, 'sub-009': {'eeg_data': <RawEEGLAB | sub-009_task-eyesclosed_eeg.set, 19 x 306300 (612.6 s), ~44.4 MiB, data loaded>, 'diagnosis': 'A'}, 'sub-010': {'eeg_data': <RawEEGLAB | sub-010_task-eyesclosed_eeg.set, 19 x 640860 (1281.7 s), ~92.9 MiB, data loaded>, 'diagnosis': 'A'}, 'sub-011': {'eeg_data': <RawEEGLAB | sub-011_task-eyesclosed_eeg.set, 19 x 384960 (769.9 s), ~55.8 MiB, data loaded>, 'diagnosis': 'A'}, 'sub-012': {'eeg_data': <RawEEGLAB | sub-012_task-eyesclosed_eeg.set, 19 x 441760 (883.5 s), ~64.1 MiB, data loaded>, 'diagnosis': 'A'}, 'sub-013': {'eeg_data': <RawEEGLAB | sub-013_task-eyesclosed_eeg.set, 19 x 419050 (838.1 s), ~60.8 MiB, data loaded>, 'diagnosis': 'A'}, 'sub-014': {'eeg_data': <RawEEGLAB | sub-014_task-eyesclosed_eeg.set, 19 x 467220 (934.4 s), ~67.8 MiB, data loaded>, 'diagnosis': 'A'}, 'sub-015': {'eeg_data': <RawEEGLAB | sub-015_task-eyesclosed_eeg.set, 19 x 450690 (901.4 s), ~65.4 MiB, data loaded>, 'diagnosis': 'A'}, 'sub-016': {'eeg_data': <RawEEGLAB | sub-016_task-eyesclosed_eeg.set, 19 x 486180 (972.4 s), ~70.5 MiB, data loaded>, 'diagnosis': 'A'}, 'sub-017': {'eeg_data': <RawEEGLAB | sub-017_task-eyesclosed_eeg.set, 19 x 421700 (843.4 s), ~61.2 MiB, data loaded>, 'diagnosis': 'A'}, 'sub-018': {'eeg_data': <RawEEGLAB | sub-018_task-eyesclosed_eeg.set, 19 x 422550 (845.1 s), ~61.3 MiB, data loaded>, 'diagnosis': 'A'}, 'sub-019': {'eeg_data': <RawEEGLAB | sub-019_task-eyesclosed_eeg.set, 19 x 459310 (918.6 s), ~66.6 MiB, data loaded>, 'diagnosis': 'A'}, 'sub-020': {'eeg_data': <RawEEGLAB | sub-020_task-eyesclosed_eeg.set, 19 x 434650 (869.3 s), ~63.0 MiB, data loaded>, 'diagnosis': 'A'}, 'sub-021': {'eeg_data': <RawEEGLAB | sub-021_task-eyesclosed_eeg.set, 19 x 460140 (920.3 s), ~66.7 MiB, data loaded>, 'diagnosis': 'A'}, 'sub-022': {'eeg_data': <RawEEGLAB | sub-022_task-eyesclosed_eeg.set, 19 x 410960 (821.9 s), ~59.6 MiB, data loaded>, 'diagnosis': 'A'}, 'sub-023': {'eeg_data': <RawEEGLAB | sub-023_task-eyesclosed_eeg.set, 19 x 417370 (834.7 s), ~60.5 MiB, data loaded>, 'diagnosis': 'A'}, 'sub-024': {'eeg_data': <RawEEGLAB | sub-024_task-eyesclosed_eeg.set, 19 x 379900 (759.8 s), ~55.1 MiB, data loaded>, 'diagnosis': 'A'}, 'sub-025': {'eeg_data': <RawEEGLAB | sub-025_task-eyesclosed_eeg.set, 19 x 342180 (684.4 s), ~49.6 MiB, data loaded>, 'diagnosis': 'A'}, 'sub-026': {'eeg_data': <RawEEGLAB | sub-026_task-eyesclosed_eeg.set, 19 x 449320 (898.6 s), ~65.2 MiB, data loaded>, 'diagnosis': 'A'}, 'sub-027': {'eeg_data': <RawEEGLAB | sub-027_task-eyesclosed_eeg.set, 19 x 413100 (826.2 s), ~59.9 MiB, data loaded>, 'diagnosis': 'A'}, 'sub-028': {'eeg_data': <RawEEGLAB | sub-028_task-eyesclosed_eeg.set, 19 x 409070 (818.1 s), ~59.3 MiB, data loaded>, 'diagnosis': 'A'}, 'sub-029': {'eeg_data': <RawEEGLAB | sub-029_task-eyesclosed_eeg.set, 19 x 368340 (736.7 s), ~53.4 MiB, data loaded>, 'diagnosis': 'A'}, 'sub-030': {'eeg_data': <RawEEGLAB | sub-030_task-eyesclosed_eeg.set, 19 x 277040 (554.1 s), ~40.2 MiB, data loaded>, 'diagnosis': 'A'}, 'sub-031': {'eeg_data': <RawEEGLAB | sub-031_task-eyesclosed_eeg.set, 19 x 575380 (1150.8 s), ~83.4 MiB, data loaded>, 'diagnosis': 'A'}, 'sub-032': {'eeg_data': <RawEEGLAB | sub-032_task-eyesclosed_eeg.set, 19 x 398890 (797.8 s), ~57.8 MiB, data loaded>, 'diagnosis': 'A'}, 'sub-033': {'eeg_data': <RawEEGLAB | sub-033_task-eyesclosed_eeg.set, 19 x 352710 (705.4 s), ~51.2 MiB, data loaded>, 'diagnosis': 'A'}, 'sub-034': {'eeg_data': <RawEEGLAB | sub-034_task-eyesclosed_eeg.set, 19 x 484950 (969.9 s), ~70.3 MiB, data loaded>, 'diagnosis': 'A'}, 'sub-035': {'eeg_data': <RawEEGLAB | sub-035_task-eyesclosed_eeg.set, 19 x 370520 (741.0 s), ~53.7 MiB, data loaded>, 'diagnosis': 'A'}, 'sub-036': {'eeg_data': <RawEEGLAB | sub-036_task-eyesclosed_eeg.set, 19 x 420680 (841.4 s), ~61.0 MiB, data loaded>, 'diagnosis': 'A'}, 'sub-037': {'eeg_data': <RawEEGLAB | sub-037_task-eyesclosed_eeg.set, 19 x 388550 (777.1 s), ~56.4 MiB, data loaded>, 'diagnosis': 'C'}, 'sub-038': {'eeg_data': <RawEEGLAB | sub-038_task-eyesclosed_eeg.set, 19 x 445700 (891.4 s), ~64.6 MiB, data loaded>, 'diagnosis': 'C'}, 'sub-039': {'eeg_data': <RawEEGLAB | sub-039_task-eyesclosed_eeg.set, 19 x 425040 (850.1 s), ~61.6 MiB, data loaded>, 'diagnosis': 'C'}, 'sub-040': {'eeg_data': <RawEEGLAB | sub-040_task-eyesclosed_eeg.set, 19 x 482870 (965.7 s), ~70.0 MiB, data loaded>, 'diagnosis': 'C'}, 'sub-041': {'eeg_data': <RawEEGLAB | sub-041_task-eyesclosed_eeg.set, 19 x 443050 (886.1 s), ~64.3 MiB, data loaded>, 'diagnosis': 'C'}, 'sub-042': {'eeg_data': <RawEEGLAB | sub-042_task-eyesclosed_eeg.set, 19 x 481510 (963.0 s), ~69.8 MiB, data loaded>, 'diagnosis': 'C'}, 'sub-043': {'eeg_data': <RawEEGLAB | sub-043_task-eyesclosed_eeg.set, 19 x 414550 (829.1 s), ~60.1 MiB, data loaded>, 'diagnosis': 'C'}, 'sub-044': {'eeg_data': <RawEEGLAB | sub-044_task-eyesclosed_eeg.set, 19 x 440800 (881.6 s), ~63.9 MiB, data loaded>, 'diagnosis': 'C'}, 'sub-045': {'eeg_data': <RawEEGLAB | sub-045_task-eyesclosed_eeg.set, 19 x 425820 (851.6 s), ~61.8 MiB, data loaded>, 'diagnosis': 'C'}, 'sub-046': {'eeg_data': <RawEEGLAB | sub-046_task-eyesclosed_eeg.set, 19 x 376520 (753.0 s), ~54.6 MiB, data loaded>, 'diagnosis': 'C'}, 'sub-047': {'eeg_data': <RawEEGLAB | sub-047_task-eyesclosed_eeg.set, 19 x 403500 (807.0 s), ~58.5 MiB, data loaded>, 'diagnosis': 'C'}, 'sub-048': {'eeg_data': <RawEEGLAB | sub-048_task-eyesclosed_eeg.set, 19 x 494940 (989.9 s), ~71.8 MiB, data loaded>, 'diagnosis': 'C'}, 'sub-049': {'eeg_data': <RawEEGLAB | sub-049_task-eyesclosed_eeg.set, 19 x 390100 (780.2 s), ~56.6 MiB, data loaded>, 'diagnosis': 'C'}, 'sub-050': {'eeg_data': <RawEEGLAB | sub-050_task-eyesclosed_eeg.set, 19 x 408820 (817.6 s), ~59.3 MiB, data loaded>, 'diagnosis': 'C'}, 'sub-051': {'eeg_data': <RawEEGLAB | sub-051_task-eyesclosed_eeg.set, 19 x 376670 (753.3 s), ~54.6 MiB, data loaded>, 'diagnosis': 'C'}, 'sub-052': {'eeg_data': <RawEEGLAB | sub-052_task-eyesclosed_eeg.set, 19 x 380050 (760.1 s), ~55.1 MiB, data loaded>, 'diagnosis': 'C'}, 'sub-053': {'eeg_data': <RawEEGLAB | sub-053_task-eyesclosed_eeg.set, 19 x 390260 (780.5 s), ~56.6 MiB, data loaded>, 'diagnosis': 'C'}, 'sub-054': {'eeg_data': <RawEEGLAB | sub-054_task-eyesclosed_eeg.set, 19 x 418810 (837.6 s), ~60.7 MiB, data loaded>, 'diagnosis': 'C'}, 'sub-055': {'eeg_data': <RawEEGLAB | sub-055_task-eyesclosed_eeg.set, 19 x 407300 (814.6 s), ~59.1 MiB, data loaded>, 'diagnosis': 'C'}, 'sub-056': {'eeg_data': <RawEEGLAB | sub-056_task-eyesclosed_eeg.set, 19 x 395660 (791.3 s), ~57.4 MiB, data loaded>, 'diagnosis': 'C'}, 'sub-057': {'eeg_data': <RawEEGLAB | sub-057_task-eyesclosed_eeg.set, 19 x 398250 (796.5 s), ~57.8 MiB, data loaded>, 'diagnosis': 'C'}, 'sub-058': {'eeg_data': <RawEEGLAB | sub-058_task-eyesclosed_eeg.set, 19 x 378390 (756.8 s), ~54.9 MiB, data loaded>, 'diagnosis': 'C'}, 'sub-059': {'eeg_data': <RawEEGLAB | sub-059_task-eyesclosed_eeg.set, 19 x 393560 (787.1 s), ~57.1 MiB, data loaded>, 'diagnosis': 'C'}, 'sub-060': {'eeg_data': <RawEEGLAB | sub-060_task-eyesclosed_eeg.set, 19 x 374240 (748.5 s), ~54.3 MiB, data loaded>, 'diagnosis': 'C'}, 'sub-061': {'eeg_data': <RawEEGLAB | sub-061_task-eyesclosed_eeg.set, 19 x 401640 (803.3 s), ~58.2 MiB, data loaded>, 'diagnosis': 'C'}, 'sub-062': {'eeg_data': <RawEEGLAB | sub-062_task-eyesclosed_eeg.set, 19 x 449350 (898.7 s), ~65.2 MiB, data loaded>, 'diagnosis': 'C'}, 'sub-063': {'eeg_data': <RawEEGLAB | sub-063_task-eyesclosed_eeg.set, 19 x 402470 (804.9 s), ~58.4 MiB, data loaded>, 'diagnosis': 'C'}, 'sub-064': {'eeg_data': <RawEEGLAB | sub-064_task-eyesclosed_eeg.set, 19 x 424050 (848.1 s), ~61.5 MiB, data loaded>, 'diagnosis': 'C'}, 'sub-065': {'eeg_data': <RawEEGLAB | sub-065_task-eyesclosed_eeg.set, 19 x 442050 (884.1 s), ~64.1 MiB, data loaded>, 'diagnosis': 'C'}, 'sub-066': {'eeg_data': <RawEEGLAB | sub-066_task-eyesclosed_eeg.set, 19 x 274880 (549.8 s), ~39.9 MiB, data loaded>, 'diagnosis': 'F'}, 'sub-067': {'eeg_data': <RawEEGLAB | sub-067_task-eyesclosed_eeg.set, 19 x 321550 (643.1 s), ~46.6 MiB, data loaded>, 'diagnosis': 'F'}, 'sub-068': {'eeg_data': <RawEEGLAB | sub-068_task-eyesclosed_eeg.set, 19 x 286550 (573.1 s), ~41.6 MiB, data loaded>, 'diagnosis': 'F'}, 'sub-069': {'eeg_data': <RawEEGLAB | sub-069_task-eyesclosed_eeg.set, 19 x 318050 (636.1 s), ~46.1 MiB, data loaded>, 'diagnosis': 'F'}, 'sub-070': {'eeg_data': <RawEEGLAB | sub-070_task-eyesclosed_eeg.set, 19 x 239550 (479.1 s), ~34.8 MiB, data loaded>, 'diagnosis': 'F'}, 'sub-071': {'eeg_data': <RawEEGLAB | sub-071_task-eyesclosed_eeg.set, 19 x 309450 (618.9 s), ~44.9 MiB, data loaded>, 'diagnosis': 'F'}, 'sub-072': {'eeg_data': <RawEEGLAB | sub-072_task-eyesclosed_eeg.set, 19 x 328710 (657.4 s), ~47.7 MiB, data loaded>, 'diagnosis': 'F'}, 'sub-073': {'eeg_data': <RawEEGLAB | sub-073_task-eyesclosed_eeg.set, 19 x 427290 (854.6 s), ~62.0 MiB, data loaded>, 'diagnosis': 'F'}, 'sub-074': {'eeg_data': <RawEEGLAB | sub-074_task-eyesclosed_eeg.set, 19 x 507250 (1014.5 s), ~73.6 MiB, data loaded>, 'diagnosis': 'F'}, 'sub-075': {'eeg_data': <RawEEGLAB | sub-075_task-eyesclosed_eeg.set, 19 x 374090 (748.2 s), ~54.3 MiB, data loaded>, 'diagnosis': 'F'}, 'sub-076': {'eeg_data': <RawEEGLAB | sub-076_task-eyesclosed_eeg.set, 19 x 409400 (818.8 s), ~59.4 MiB, data loaded>, 'diagnosis': 'F'}, 'sub-077': {'eeg_data': <RawEEGLAB | sub-077_task-eyesclosed_eeg.set, 19 x 349570 (699.1 s), ~50.7 MiB, data loaded>, 'diagnosis': 'F'}, 'sub-078': {'eeg_data': <RawEEGLAB | sub-078_task-eyesclosed_eeg.set, 19 x 435450 (870.9 s), ~63.1 MiB, data loaded>, 'diagnosis': 'F'}, 'sub-079': {'eeg_data': <RawEEGLAB | sub-079_task-eyesclosed_eeg.set, 19 x 408340 (816.7 s), ~59.2 MiB, data loaded>, 'diagnosis': 'F'}, 'sub-080': {'eeg_data': <RawEEGLAB | sub-080_task-eyesclosed_eeg.set, 19 x 457570 (915.1 s), ~66.4 MiB, data loaded>, 'diagnosis': 'F'}, 'sub-081': {'eeg_data': <RawEEGLAB | sub-081_task-eyesclosed_eeg.set, 19 x 412240 (824.5 s), ~59.8 MiB, data loaded>, 'diagnosis': 'F'}, 'sub-082': {'eeg_data': <RawEEGLAB | sub-082_task-eyesclosed_eeg.set, 19 x 388800 (777.6 s), ~56.4 MiB, data loaded>, 'diagnosis': 'F'}, 'sub-083': {'eeg_data': <RawEEGLAB | sub-083_task-eyesclosed_eeg.set, 19 x 456600 (913.2 s), ~66.2 MiB, data loaded>, 'diagnosis': 'F'}, 'sub-084': {'eeg_data': <RawEEGLAB | sub-084_task-eyesclosed_eeg.set, 19 x 326050 (652.1 s), ~47.3 MiB, data loaded>, 'diagnosis': 'F'}, 'sub-085': {'eeg_data': <RawEEGLAB | sub-085_task-eyesclosed_eeg.set, 19 x 280030 (560.1 s), ~40.6 MiB, data loaded>, 'diagnosis': 'F'}, 'sub-086': {'eeg_data': <RawEEGLAB | sub-086_task-eyesclosed_eeg.set, 19 x 289400 (578.8 s), ~42.0 MiB, data loaded>, 'diagnosis': 'F'}, 'sub-087': {'eeg_data': <RawEEGLAB | sub-087_task-eyesclosed_eeg.set, 19 x 301380 (602.8 s), ~43.7 MiB, data loaded>, 'diagnosis': 'F'}, 'sub-088': {'eeg_data': <RawEEGLAB | sub-088_task-eyesclosed_eeg.set, 19 x 392350 (784.7 s), ~56.9 MiB, data loaded>, 'diagnosis': 'F'}}\n"
     ]
    }
   ],
   "source": [
    "import mne\n",
    "import os\n",
    "\n",
    "eeg_dir = \"data/\"\n",
    "\n",
    "#List all the EEG files in the directory\n",
    "eeg_files= [f for f in os.listdir(eeg_dir) if f.endswith(\".set\")]\n",
    "\n",
    "eeg_data_dict = {}\n",
    "\n",
    "#iterate through all the file and load EEG data\n",
    "for file in eeg_files:\n",
    "    subject_id = file.split(\"_\")[0]\n",
    "\n",
    "    #match subject id with the corresponding dignosis (group)\n",
    "    #diagnosis = participants_df.loc[participants_df['participant_id'] == subject_id, 'Group'].values[0]\n",
    "    diagnosis = participants_df.loc[participants_df['participant_id'] == subject_id, 'Group'].values[0]\n",
    "    \n",
    "    #Load the eeg data using mne with preload set to true\n",
    "    eeg_data = mne.io.read_raw_eeglab(os.path.join(eeg_dir, file), preload=True) \n",
    "\n",
    "    #Store the eeg data and the corresponding diagnosis\n",
    "    eeg_data_dict[subject_id] = {\"eeg_data\": eeg_data, \"diagnosis\": diagnosis}\n",
    "\n",
    "#Check the strucrure of the dictionary\n",
    "print(eeg_data_dict)"
   ]
  },
  {
   "cell_type": "markdown",
   "id": "b9faac50-6f30-4fe0-99cd-6bd7772f5242",
   "metadata": {},
   "source": [
    "**Pre-Processing**"
   ]
  },
  {
   "cell_type": "code",
   "execution_count": 4,
   "id": "4be1b228-2cda-45c2-aa45-79531eaf4b5e",
   "metadata": {},
   "outputs": [
    {
     "name": "stdout",
     "output_type": "stream",
     "text": [
      "Filtering raw data in 1 contiguous segment\n",
      "Setting up band-pass filter from 0.5 - 45 Hz\n",
      "\n",
      "FIR filter parameters\n",
      "---------------------\n",
      "Designing a one-pass, zero-phase, non-causal bandpass filter:\n",
      "- Windowed time-domain design (firwin) method\n",
      "- Hamming window with 0.0194 passband ripple and 53 dB stopband attenuation\n",
      "- Lower passband edge: 0.50\n",
      "- Lower transition bandwidth: 0.50 Hz (-6 dB cutoff frequency: 0.25 Hz)\n",
      "- Upper passband edge: 45.00 Hz\n",
      "- Upper transition bandwidth: 11.25 Hz (-6 dB cutoff frequency: 50.62 Hz)\n",
      "- Filter length: 3301 samples (6.602 s)\n",
      "\n"
     ]
    },
    {
     "name": "stderr",
     "output_type": "stream",
     "text": [
      "[Parallel(n_jobs=1)]: Done  17 tasks      | elapsed:    0.6s\n"
     ]
    }
   ],
   "source": [
    "#PRE-PROCESSING\n",
    "#Applying  bandpass filtering(0.5-45 hz)\n",
    "eeg_data_filtered = eeg_data.filter(l_freq=0.5, h_freq=45)"
   ]
  },
  {
   "cell_type": "markdown",
   "id": "e9ee5553-2eff-498d-83cb-9a2993ac45b1",
   "metadata": {},
   "source": [
    "**Removing boundary events**"
   ]
  },
  {
   "cell_type": "code",
   "execution_count": 5,
   "id": "d27a171b-e2c9-4dc6-af77-3f80468e7b44",
   "metadata": {},
   "outputs": [
    {
     "name": "stdout",
     "output_type": "stream",
     "text": [
      "Used Annotations descriptions: [np.str_('boundary')]\n",
      "Original events:\n",
      "[[  6800      0      1]\n",
      " [ 84840      0      1]\n",
      " [186510      0      1]\n",
      " [327790      0      1]\n",
      " [345650      0      1]\n",
      " [390540      0      1]]\n"
     ]
    }
   ],
   "source": [
    "#Removing boundary events(discontinuities)\n",
    "# Check the events in the dataset\n",
    "events, event_id = mne.events_from_annotations(eeg_data)\n",
    "\n",
    "# Print out the events to see the types\n",
    "print(\"Original events:\")\n",
    "print(events)"
   ]
  },
  {
   "cell_type": "code",
   "execution_count": 6,
   "id": "bcad53d0-dda9-4536-810d-4a3f22d27b3b",
   "metadata": {},
   "outputs": [
    {
     "name": "stdout",
     "output_type": "stream",
     "text": [
      "Number of events before removing boundary events: 6\n",
      "Number of events after removing boundary events: 0\n",
      "First few events after boundary event removal:\n",
      "[]\n"
     ]
    }
   ],
   "source": [
    "# Remove boundary events\n",
    "boundary_event_id = event_id.get('boundary')\n",
    "if boundary_event_id is not None:\n",
    "    events_before = events.copy()  # Save original events for comparison\n",
    "    events = events[events[:, 2] != boundary_event_id]\n",
    "    \n",
    "    print(f\"Number of events before removing boundary events: {len(events_before)}\")\n",
    "    print(f\"Number of events after removing boundary events: {len(events)}\")\n",
    "    \n",
    "    # Optionally, print a sample of the first few events to confirm the change\n",
    "    print(\"First few events after boundary event removal:\")\n",
    "    print(events[:10])  # Print first 10 events for inspection\n",
    "else:\n",
    "    print(\"No boundary events found.\")\n"
   ]
  },
  {
   "cell_type": "code",
   "execution_count": 7,
   "id": "0e11c038-7766-4ac3-989c-11f3807f004e",
   "metadata": {},
   "outputs": [
    {
     "name": "stdout",
     "output_type": "stream",
     "text": [
      "Not setting metadata\n",
      "196 matching events found\n",
      "No baseline correction applied\n",
      "0 projection items activated\n",
      "Using data from preloaded Raw for 196 events and 2000 original time points ...\n",
      "0 bad epochs dropped\n"
     ]
    }
   ],
   "source": [
    "#Epoching the data\n",
    "#defining the duration of each epoch(like 4 seconds)\n",
    "epochs = mne.make_fixed_length_epochs(eeg_data_filtered, duration=4, preload=True)"
   ]
  },
  {
   "cell_type": "markdown",
   "id": "399fa7f0-60b9-4c5f-bfd8-b4500472b02c",
   "metadata": {},
   "source": [
    "**Feature Extraction**"
   ]
  },
  {
   "cell_type": "code",
   "execution_count": 8,
   "id": "5c9a1cf5-92c9-4d98-947b-1f6f700a9525",
   "metadata": {},
   "outputs": [
    {
     "name": "stdout",
     "output_type": "stream",
     "text": [
      "Effective window size : 4.096 (s)\n",
      "Plotting power spectral density (dB=True).\n"
     ]
    },
    {
     "name": "stderr",
     "output_type": "stream",
     "text": [
      "C:\\Users\\felix\\OneDrive\\PM BM\\EEG\\venv\\Lib\\site-packages\\mne\\viz\\utils.py:158: UserWarning: FigureCanvasAgg is non-interactive, and thus cannot be shown\n",
      "  (fig or plt).show(**kwargs)\n"
     ]
    },
    {
     "data": {
      "image/png": "[encoded data removed]",
      "text/plain": [
       "<MNELineFigure size 1000x350 with 2 Axes>"
      ]
     },
     "metadata": {},
     "output_type": "display_data"
    },
    {
     "data": {
      "image/png": "[encoded data removed]",
      "text/plain": [
       "<Figure size 1000x500 with 1 Axes>"
      ]
     },
     "metadata": {},
     "output_type": "display_data"
    }
   ],
   "source": [
    "#Feature extraction\n",
    "import matplotlib.pyplot as plt\n",
    "psd = eeg_data_filtered.compute_psd(method='welch', fmin=1, fmax=40)\n",
    "#psd = epochs.compute_psd(method='welch', fmin=1, fmax=40)\n",
    "\n",
    "#Acces the psd values and frequencies\n",
    "psd_values = psd.get_data() #psd values (n_channels x n_frequencies)\n",
    "freqs = psd.freqs #Frequencies corresponding to the psd values\n",
    "\n",
    "psd.plot()\n",
    "#plot the psd\n",
    "plt.figure(figsize=(10, 5))\n",
    "plt.plot(freqs, psd_values.mean(axis=0))  # Mean across channels\n",
    "plt.xlabel(\"Frequency (Hz)\")\n",
    "plt.ylabel(\"Power Spectral Density (dB)\")\n",
    "plt.title(\"Power Spectral Density (Welch's Method)\")\n",
    "plt.grid(True)\n",
    "plt.show()"
   ]
  },
  {
   "cell_type": "markdown",
   "id": "8218f94c-3fbe-4f31-b370-b9ebc28728dc",
   "metadata": {},
   "source": [
    "**Prepairing data for training**"
   ]
  },
  {
   "cell_type": "code",
   "execution_count": 9,
   "id": "a1385b68-52e3-4a1b-b6de-1cf1be8c046b",
   "metadata": {},
   "outputs": [],
   "source": [
    "#Prepairing data for training\n",
    "import tensorflow as tf\n",
    "import numpy as np\n",
    "from sklearn.model_selection import train_test_split\n",
    "from sklearn.preprocessing import StandardScaler\n",
    "from tensorflow.keras.utils import to_categorical"
   ]
  },
  {
   "cell_type": "code",
   "execution_count": 12,
   "id": "07326ee2-0667-4b2d-b2f7-7bf7ed113858",
   "metadata": {},
   "outputs": [],
   "source": [
    "#Reshape the EEG dataset into CNN-compatible format\n",
    "X =[]\n",
    "y = []\n",
    "\n",
    "#Define label mapping for diagnosis categories\n",
    "label_mapping = {'A' : 0, 'F' : 1, 'C' : 2}\n",
    "\n",
    "for subject_id, data in eeg_data_dict.items():\n",
    "    psd_values = psd_values #Extracted psd features(n_channels, n_frequencies)\n",
    "    diagnosis = label_mapping[data['diagnosis']] #convert diagnosis to label\n",
    "\n",
    "    X.append(psd_values)\n",
    "    y.append(diagnosis)"
   ]
  },
  {
   "cell_type": "code",
   "execution_count": 14,
   "id": "e71be1cb-3b95-40aa-a66f-67b9a1398e65",
   "metadata": {},
   "outputs": [
    {
     "name": "stdout",
     "output_type": "stream",
     "text": [
      "Feature matrix shape: (88, 19, 159)\n",
      "Labels shape: (88,)\n"
     ]
    }
   ],
   "source": [
    "#Converrt lists to numpy arrays\n",
    "X = np.array(X) #shape (samples, channels, frequencies)\n",
    "y = np.array(y) #shape (samples)\n",
    "\n",
    "print(f\"Feature matrix shape: {X.shape}\")  # Expected: (88, n_channels, n_frequencies)\n",
    "print(f\"Labels shape: {y.shape}\")  # Expected: (88,)"
   ]
  },
  {
   "cell_type": "code",
   "execution_count": 15,
   "id": "b10fbe01-10b3-4033-81b4-fdb5b3bc75d2",
   "metadata": {},
   "outputs": [],
   "source": [
    "#Standardize the features\n",
    "scaler = StandardScaler()\n",
    "X_reshaped = X.reshape(X.shape[0], -1)  #Flatten for noramlization\n",
    "X_reshaped = scaler.fit_transform(X_reshaped)\n",
    "\n",
    "#reshape back for CNN input(samples, frequencies, channels)\n",
    "X = X_reshaped.reshape(X.shape[0], X.shape[2], X.shape[1])\n"
   ]
  },
  {
   "cell_type": "code",
   "execution_count": 19,
   "id": "6f70a68a-ff29-4ba5-b039-f7e5efb00dca",
   "metadata": {},
   "outputs": [],
   "source": [
    "#One-hot encode the labels fpr CNN classification, into categorical format\n",
    "y_categorical = to_categorical(y, num_classes=3)\n",
    "\n",
    "#Split the dataset into training (80%) and testing (20%)\n",
    "#X_train, X_test, y_train, y_test = train_test_split(X, y_categorical, test_size=0.2, stratify=y, random_state=42)\n",
    "\n",
    "#Print dataset shapes\n",
    "# print(f\"Training set: {X_train.shape}, Lables: {y_train.shape}\")\n",
    "# print(f\"Testing set: {X_test.shape}, Labels: {y_test.shape}\")"
   ]
  },
  {
   "cell_type": "code",
   "execution_count": 20,
   "id": "a181eec0-6a36-4ed6-8730-7401cda536c8",
   "metadata": {},
   "outputs": [],
   "source": [
    "X_train, X_test, y_train, y_test = train_test_split(X, y_categorical, test_size=0.2, stratify=y, random_state=42)"
   ]
  },
  {
   "cell_type": "markdown",
   "id": "cb650b71-cd81-467e-b46f-414e3eb8a79f",
   "metadata": {},
   "source": [
    "**Data Augmentation**"
   ]
  },
  {
   "cell_type": "code",
   "execution_count": 21,
   "id": "382da82a-6ab1-4e95-b8b4-afff7dbff381",
   "metadata": {},
   "outputs": [],
   "source": [
    "# Data augmentation function\n",
    "def augment_eeg_data(eeg_data, noise_factor=0.01):\n",
    "    \"\"\"\n",
    "    Add random noise to the EEG data for augmentation.\n",
    "    \"\"\"\n",
    "    noise = noise_factor * np.random.normal(size=eeg_data.shape)\n",
    "    return eeg_data + noise\n",
    "\n",
    "# Apply augmentation to your dataset\n",
    "X_train_augmented = np.array([augment_eeg_data(x) for x in X_train])\n",
    "\n",
    "# Combine original and augmented data\n",
    "X_train_combined = np.concatenate([X_train, X_train_augmented])\n",
    "y_train_combined = np.concatenate([y_train, y_train])"
   ]
  },
  {
   "cell_type": "code",
   "execution_count": 22,
   "id": "8b5c621c-6e11-4881-aabf-872d0c92ca9c",
   "metadata": {},
   "outputs": [],
   "source": [
    "X_train, X_test, y_train, y_test = train_test_split(\n",
    "    X_train_combined, y_train_combined, test_size=0.2, stratify=y_train_combined, random_state=42\n",
    ")"
   ]
  },
  {
   "cell_type": "markdown",
   "id": "d335dadb-ed77-4c13-9d2b-59acf5f788b8",
   "metadata": {},
   "source": [
    "**Model Definition**"
   ]
  },
  {
   "cell_type": "code",
   "execution_count": 25,
   "id": "d8468380-cf5e-447e-b14a-e53648cca0d7",
   "metadata": {},
   "outputs": [
    {
     "data": {
      "text/html": [
       "<pre style=\"white-space:pre;overflow-x:auto;line-height:normal;font-family:Menlo,'DejaVu Sans Mono',consolas,'Courier New',monospace\"><span style=\"font-weight: bold\">Model: \"sequential_1\"</span>\n",
       "</pre>\n"
      ],
      "text/plain": [
       "\u001b[1mModel: \"sequential_1\"\u001b[0m\n"
      ]
     },
     "metadata": {},
     "output_type": "display_data"
    },
    {
     "data": {
      "text/html": [
       "<pre style=\"white-space:pre;overflow-x:auto;line-height:normal;font-family:Menlo,'DejaVu Sans Mono',consolas,'Courier New',monospace\">┏━━━━━━━━━━━━━━━━━━━━━━━━━━┳━━━━━━━━━━━━━━━━━━━┳━━━━━━━━━━━━┓\n",
       "┃<span style=\"font-weight: bold\"> Layer (type)             </span>┃<span style=\"font-weight: bold\"> Output Shape      </span>┃<span style=\"font-weight: bold\">    Param # </span>┃\n",
       "┡━━━━━━━━━━━━━━━━━━━━━━━━━━╇━━━━━━━━━━━━━━━━━━━╇━━━━━━━━━━━━┩\n",
       "│ conv2d_1 (<span style=\"color: #0087ff; text-decoration-color: #0087ff\">Conv2D</span>)        │ (<span style=\"color: #00d7ff; text-decoration-color: #00d7ff\">None</span>, <span style=\"color: #00af00; text-decoration-color: #00af00\">159</span>, <span style=\"color: #00af00; text-decoration-color: #00af00\">19</span>,   │         <span style=\"color: #00af00; text-decoration-color: #00af00\">80</span> │\n",
       "│                          │ <span style=\"color: #00af00; text-decoration-color: #00af00\">8</span>)                │            │\n",
       "├──────────────────────────┼───────────────────┼────────────┤\n",
       "│ max_pooling2d_1          │ (<span style=\"color: #00d7ff; text-decoration-color: #00d7ff\">None</span>, <span style=\"color: #00af00; text-decoration-color: #00af00\">79</span>, <span style=\"color: #00af00; text-decoration-color: #00af00\">9</span>, <span style=\"color: #00af00; text-decoration-color: #00af00\">8</span>)  │          <span style=\"color: #00af00; text-decoration-color: #00af00\">0</span> │\n",
       "│ (<span style=\"color: #0087ff; text-decoration-color: #0087ff\">MaxPooling2D</span>)           │                   │            │\n",
       "├──────────────────────────┼───────────────────┼────────────┤\n",
       "│ dropout_2 (<span style=\"color: #0087ff; text-decoration-color: #0087ff\">Dropout</span>)      │ (<span style=\"color: #00d7ff; text-decoration-color: #00d7ff\">None</span>, <span style=\"color: #00af00; text-decoration-color: #00af00\">79</span>, <span style=\"color: #00af00; text-decoration-color: #00af00\">9</span>, <span style=\"color: #00af00; text-decoration-color: #00af00\">8</span>)  │          <span style=\"color: #00af00; text-decoration-color: #00af00\">0</span> │\n",
       "├──────────────────────────┼───────────────────┼────────────┤\n",
       "│ flatten_1 (<span style=\"color: #0087ff; text-decoration-color: #0087ff\">Flatten</span>)      │ (<span style=\"color: #00d7ff; text-decoration-color: #00d7ff\">None</span>, <span style=\"color: #00af00; text-decoration-color: #00af00\">5688</span>)      │          <span style=\"color: #00af00; text-decoration-color: #00af00\">0</span> │\n",
       "├──────────────────────────┼───────────────────┼────────────┤\n",
       "│ dense_2 (<span style=\"color: #0087ff; text-decoration-color: #0087ff\">Dense</span>)          │ (<span style=\"color: #00d7ff; text-decoration-color: #00d7ff\">None</span>, <span style=\"color: #00af00; text-decoration-color: #00af00\">32</span>)        │    <span style=\"color: #00af00; text-decoration-color: #00af00\">182,048</span> │\n",
       "├──────────────────────────┼───────────────────┼────────────┤\n",
       "│ dropout_3 (<span style=\"color: #0087ff; text-decoration-color: #0087ff\">Dropout</span>)      │ (<span style=\"color: #00d7ff; text-decoration-color: #00d7ff\">None</span>, <span style=\"color: #00af00; text-decoration-color: #00af00\">32</span>)        │          <span style=\"color: #00af00; text-decoration-color: #00af00\">0</span> │\n",
       "├──────────────────────────┼───────────────────┼────────────┤\n",
       "│ dense_3 (<span style=\"color: #0087ff; text-decoration-color: #0087ff\">Dense</span>)          │ (<span style=\"color: #00d7ff; text-decoration-color: #00d7ff\">None</span>, <span style=\"color: #00af00; text-decoration-color: #00af00\">3</span>)         │         <span style=\"color: #00af00; text-decoration-color: #00af00\">99</span> │\n",
       "└──────────────────────────┴───────────────────┴────────────┘\n",
       "</pre>\n"
      ],
      "text/plain": [
       "┏━━━━━━━━━━━━━━━━━━━━━━━━━━┳━━━━━━━━━━━━━━━━━━━┳━━━━━━━━━━━━┓\n",
       "┃\u001b[1m \u001b[0m\u001b[1mLayer (type)            \u001b[0m\u001b[1m \u001b[0m┃\u001b[1m \u001b[0m\u001b[1mOutput Shape     \u001b[0m\u001b[1m \u001b[0m┃\u001b[1m \u001b[0m\u001b[1m   Param #\u001b[0m\u001b[1m \u001b[0m┃\n",
       "┡━━━━━━━━━━━━━━━━━━━━━━━━━━╇━━━━━━━━━━━━━━━━━━━╇━━━━━━━━━━━━┩\n",
       "│ conv2d_1 (\u001b[38;5;33mConv2D\u001b[0m)        │ (\u001b[38;5;45mNone\u001b[0m, \u001b[38;5;34m159\u001b[0m, \u001b[38;5;34m19\u001b[0m,   │         \u001b[38;5;34m80\u001b[0m │\n",
       "│                          │ \u001b[38;5;34m8\u001b[0m)                │            │\n",
       "├──────────────────────────┼───────────────────┼────────────┤\n",
       "│ max_pooling2d_1          │ (\u001b[38;5;45mNone\u001b[0m, \u001b[38;5;34m79\u001b[0m, \u001b[38;5;34m9\u001b[0m, \u001b[38;5;34m8\u001b[0m)  │          \u001b[38;5;34m0\u001b[0m │\n",
       "│ (\u001b[38;5;33mMaxPooling2D\u001b[0m)           │                   │            │\n",
       "├──────────────────────────┼───────────────────┼────────────┤\n",
       "│ dropout_2 (\u001b[38;5;33mDropout\u001b[0m)      │ (\u001b[38;5;45mNone\u001b[0m, \u001b[38;5;34m79\u001b[0m, \u001b[38;5;34m9\u001b[0m, \u001b[38;5;34m8\u001b[0m)  │          \u001b[38;5;34m0\u001b[0m │\n",
       "├──────────────────────────┼───────────────────┼────────────┤\n",
       "│ flatten_1 (\u001b[38;5;33mFlatten\u001b[0m)      │ (\u001b[38;5;45mNone\u001b[0m, \u001b[38;5;34m5688\u001b[0m)      │          \u001b[38;5;34m0\u001b[0m │\n",
       "├──────────────────────────┼───────────────────┼────────────┤\n",
       "│ dense_2 (\u001b[38;5;33mDense\u001b[0m)          │ (\u001b[38;5;45mNone\u001b[0m, \u001b[38;5;34m32\u001b[0m)        │    \u001b[38;5;34m182,048\u001b[0m │\n",
       "├──────────────────────────┼───────────────────┼────────────┤\n",
       "│ dropout_3 (\u001b[38;5;33mDropout\u001b[0m)      │ (\u001b[38;5;45mNone\u001b[0m, \u001b[38;5;34m32\u001b[0m)        │          \u001b[38;5;34m0\u001b[0m │\n",
       "├──────────────────────────┼───────────────────┼────────────┤\n",
       "│ dense_3 (\u001b[38;5;33mDense\u001b[0m)          │ (\u001b[38;5;45mNone\u001b[0m, \u001b[38;5;34m3\u001b[0m)         │         \u001b[38;5;34m99\u001b[0m │\n",
       "└──────────────────────────┴───────────────────┴────────────┘\n"
      ]
     },
     "metadata": {},
     "output_type": "display_data"
    },
    {
     "data": {
      "text/html": [
       "<pre style=\"white-space:pre;overflow-x:auto;line-height:normal;font-family:Menlo,'DejaVu Sans Mono',consolas,'Courier New',monospace\"><span style=\"font-weight: bold\"> Total params: </span><span style=\"color: #00af00; text-decoration-color: #00af00\">182,227</span> (711.82 KB)\n",
       "</pre>\n"
      ],
      "text/plain": [
       "\u001b[1m Total params: \u001b[0m\u001b[38;5;34m182,227\u001b[0m (711.82 KB)\n"
      ]
     },
     "metadata": {},
     "output_type": "display_data"
    },
    {
     "data": {
      "text/html": [
       "<pre style=\"white-space:pre;overflow-x:auto;line-height:normal;font-family:Menlo,'DejaVu Sans Mono',consolas,'Courier New',monospace\"><span style=\"font-weight: bold\"> Trainable params: </span><span style=\"color: #00af00; text-decoration-color: #00af00\">182,227</span> (711.82 KB)\n",
       "</pre>\n"
      ],
      "text/plain": [
       "\u001b[1m Trainable params: \u001b[0m\u001b[38;5;34m182,227\u001b[0m (711.82 KB)\n"
      ]
     },
     "metadata": {},
     "output_type": "display_data"
    },
    {
     "data": {
      "text/html": [
       "<pre style=\"white-space:pre;overflow-x:auto;line-height:normal;font-family:Menlo,'DejaVu Sans Mono',consolas,'Courier New',monospace\"><span style=\"font-weight: bold\"> Non-trainable params: </span><span style=\"color: #00af00; text-decoration-color: #00af00\">0</span> (0.00 B)\n",
       "</pre>\n"
      ],
      "text/plain": [
       "\u001b[1m Non-trainable params: \u001b[0m\u001b[38;5;34m0\u001b[0m (0.00 B)\n"
      ]
     },
     "metadata": {},
     "output_type": "display_data"
    }
   ],
   "source": [
    "from tensorflow.keras import models, layers, regularizers\n",
    "from tensorflow.keras.layers import Input\n",
    "\n",
    "model = models.Sequential([\n",
    "    Input(shape=(X_train_combined.shape[1], X_train_combined.shape[2], 1)),  # Shape based on your data\n",
    "    layers.Conv2D(8, (3, 3), activation='relu', padding='same', input_shape=(X.shape[1], X.shape[2], 1)),\n",
    "    layers.MaxPooling2D((2, 2)),\n",
    "    layers.Dropout(0.5),\n",
    "    layers.Flatten(),\n",
    "    layers.Dense(32, activation='relu', kernel_regularizer=regularizers.l2(0.01)),\n",
    "    layers.Dropout(0.5),\n",
    "    layers.Dense(3, activation='softmax')\n",
    "])\n",
    "\n",
    "model.summary()"
   ]
  },
  {
   "cell_type": "code",
   "execution_count": 26,
   "id": "e10c204a-54b8-47e8-93a1-d8c0f0ab0ef6",
   "metadata": {},
   "outputs": [],
   "source": [
    "#Compile the model\n",
    "from tensorflow.keras.optimizers import Adam\n",
    "optimizer = Adam(learning_rate=0.0001)\n",
    "model.compile(optimizer=optimizer,\n",
    "               loss='categorical_crossentropy', #since it is a multiclass classification problem\n",
    "               metrics=['accuracy'])"
   ]
  },
  {
   "cell_type": "markdown",
   "id": "5e776d96-f03a-492d-85dd-57cd5f1c91e5",
   "metadata": {},
   "source": [
    "**Computing class weights**"
   ]
  },
  {
   "cell_type": "code",
   "execution_count": 27,
   "id": "e3a0a759-8073-4ada-b6c9-5717ad6bb1c3",
   "metadata": {},
   "outputs": [
    {
     "name": "stdout",
     "output_type": "stream",
     "text": [
      "Class Weights: {0: np.float64(0.8045977011494253), 1: np.float64(1.2962962962962963), 2: np.float64(1.0144927536231885)}\n"
     ]
    }
   ],
   "source": [
    "#Compute class weights\n",
    "from sklearn.utils.class_weight import compute_class_weight\n",
    "\n",
    "# Convert one-hot encoded labels back to integers\n",
    "y_train_labels = np.argmax(y_train_combined, axis=1)\n",
    "\n",
    "# Compute class weights\n",
    "class_weights = compute_class_weight('balanced', classes=np.unique(y_train_labels), y=y_train_labels)\n",
    "class_weights = dict(enumerate(class_weights))\n",
    "\n",
    "print(\"Class Weights:\", class_weights)"
   ]
  },
  {
   "cell_type": "markdown",
   "id": "e5778b71-9762-4edc-be82-6e54acad8e5c",
   "metadata": {},
   "source": [
    "**Training**"
   ]
  },
  {
   "cell_type": "code",
   "execution_count": 32,
   "id": "41893fbf-185e-43d8-a838-f4b2ffef3941",
   "metadata": {},
   "outputs": [
    {
     "name": "stdout",
     "output_type": "stream",
     "text": [
      "Epoch 1/200\n",
      "\u001b[1m5/5\u001b[0m \u001b[32m━━━━━━━━━━━━━━━━━━━━\u001b[0m\u001b[37m\u001b[0m \u001b[1m0s\u001b[0m 91ms/step - accuracy: 0.4892 - loss: 1.1047 - val_accuracy: 0.4286 - val_loss: 1.0961\n",
      "Epoch 2/200\n",
      "\u001b[1m5/5\u001b[0m \u001b[32m━━━━━━━━━━━━━━━━━━━━\u001b[0m\u001b[37m\u001b[0m \u001b[1m0s\u001b[0m 66ms/step - accuracy: 0.4753 - loss: 1.1074 - val_accuracy: 0.5000 - val_loss: 1.0963\n",
      "Epoch 3/200\n",
      "\u001b[1m5/5\u001b[0m \u001b[32m━━━━━━━━━━━━━━━━━━━━\u001b[0m\u001b[37m\u001b[0m \u001b[1m1s\u001b[0m 98ms/step - accuracy: 0.4993 - loss: 1.0963 - val_accuracy: 0.5000 - val_loss: 1.0960\n",
      "Epoch 4/200\n",
      "\u001b[1m5/5\u001b[0m \u001b[32m━━━━━━━━━━━━━━━━━━━━\u001b[0m\u001b[37m\u001b[0m \u001b[1m0s\u001b[0m 70ms/step - accuracy: 0.4781 - loss: 1.1013 - val_accuracy: 0.4643 - val_loss: 1.0957\n",
      "Epoch 5/200\n",
      "\u001b[1m5/5\u001b[0m \u001b[32m━━━━━━━━━━━━━━━━━━━━\u001b[0m\u001b[37m\u001b[0m \u001b[1m0s\u001b[0m 71ms/step - accuracy: 0.4026 - loss: 1.1144 - val_accuracy: 0.5357 - val_loss: 1.0959\n",
      "Epoch 6/200\n",
      "\u001b[1m5/5\u001b[0m \u001b[32m━━━━━━━━━━━━━━━━━━━━\u001b[0m\u001b[37m\u001b[0m \u001b[1m1s\u001b[0m 110ms/step - accuracy: 0.4805 - loss: 1.1026 - val_accuracy: 0.6429 - val_loss: 1.0960\n",
      "Epoch 7/200\n",
      "\u001b[1m5/5\u001b[0m \u001b[32m━━━━━━━━━━━━━━━━━━━━\u001b[0m\u001b[37m\u001b[0m \u001b[1m1s\u001b[0m 73ms/step - accuracy: 0.5269 - loss: 1.0808 - val_accuracy: 0.6071 - val_loss: 1.0958\n",
      "Epoch 8/200\n",
      "\u001b[1m5/5\u001b[0m \u001b[32m━━━━━━━━━━━━━━━━━━━━\u001b[0m\u001b[37m\u001b[0m \u001b[1m1s\u001b[0m 67ms/step - accuracy: 0.5438 - loss: 1.0989 - val_accuracy: 0.6071 - val_loss: 1.0957\n",
      "Epoch 9/200\n",
      "\u001b[1m5/5\u001b[0m \u001b[32m━━━━━━━━━━━━━━━━━━━━\u001b[0m\u001b[37m\u001b[0m \u001b[1m0s\u001b[0m 59ms/step - accuracy: 0.5225 - loss: 1.0915 - val_accuracy: 0.6429 - val_loss: 1.0956\n",
      "Epoch 10/200\n",
      "\u001b[1m5/5\u001b[0m \u001b[32m━━━━━━━━━━━━━━━━━━━━\u001b[0m\u001b[37m\u001b[0m \u001b[1m0s\u001b[0m 69ms/step - accuracy: 0.6171 - loss: 1.0858 - val_accuracy: 0.5000 - val_loss: 1.0952\n",
      "Epoch 11/200\n",
      "\u001b[1m5/5\u001b[0m \u001b[32m━━━━━━━━━━━━━━━━━━━━\u001b[0m\u001b[37m\u001b[0m \u001b[1m1s\u001b[0m 88ms/step - accuracy: 0.5304 - loss: 1.1009 - val_accuracy: 0.5000 - val_loss: 1.0950\n",
      "Epoch 12/200\n",
      "\u001b[1m5/5\u001b[0m \u001b[32m━━━━━━━━━━━━━━━━━━━━\u001b[0m\u001b[37m\u001b[0m \u001b[1m1s\u001b[0m 92ms/step - accuracy: 0.4486 - loss: 1.0904 - val_accuracy: 0.5000 - val_loss: 1.0948\n",
      "Epoch 13/200\n",
      "\u001b[1m5/5\u001b[0m \u001b[32m━━━━━━━━━━━━━━━━━━━━\u001b[0m\u001b[37m\u001b[0m \u001b[1m0s\u001b[0m 75ms/step - accuracy: 0.5052 - loss: 1.0932 - val_accuracy: 0.5714 - val_loss: 1.0948\n",
      "Epoch 14/200\n",
      "\u001b[1m5/5\u001b[0m \u001b[32m━━━━━━━━━━━━━━━━━━━━\u001b[0m\u001b[37m\u001b[0m \u001b[1m1s\u001b[0m 74ms/step - accuracy: 0.5288 - loss: 1.0961 - val_accuracy: 0.6071 - val_loss: 1.0948\n",
      "Epoch 15/200\n",
      "\u001b[1m5/5\u001b[0m \u001b[32m━━━━━━━━━━━━━━━━━━━━\u001b[0m\u001b[37m\u001b[0m \u001b[1m1s\u001b[0m 62ms/step - accuracy: 0.5063 - loss: 1.0865 - val_accuracy: 0.6071 - val_loss: 1.0948\n",
      "Epoch 16/200\n",
      "\u001b[1m5/5\u001b[0m \u001b[32m━━━━━━━━━━━━━━━━━━━━\u001b[0m\u001b[37m\u001b[0m \u001b[1m0s\u001b[0m 74ms/step - accuracy: 0.5507 - loss: 1.0915 - val_accuracy: 0.6786 - val_loss: 1.0949\n",
      "Epoch 17/200\n",
      "\u001b[1m5/5\u001b[0m \u001b[32m━━━━━━━━━━━━━━━━━━━━\u001b[0m\u001b[37m\u001b[0m \u001b[1m1s\u001b[0m 67ms/step - accuracy: 0.5633 - loss: 1.1003 - val_accuracy: 0.6786 - val_loss: 1.0952\n",
      "Epoch 18/200\n",
      "\u001b[1m5/5\u001b[0m \u001b[32m━━━━━━━━━━━━━━━━━━━━\u001b[0m\u001b[37m\u001b[0m \u001b[1m1s\u001b[0m 79ms/step - accuracy: 0.4907 - loss: 1.0895 - val_accuracy: 0.6071 - val_loss: 1.0953\n",
      "Epoch 19/200\n",
      "\u001b[1m5/5\u001b[0m \u001b[32m━━━━━━━━━━━━━━━━━━━━\u001b[0m\u001b[37m\u001b[0m \u001b[1m1s\u001b[0m 62ms/step - accuracy: 0.5161 - loss: 1.0984 - val_accuracy: 0.6071 - val_loss: 1.0955\n",
      "Epoch 20/200\n",
      "\u001b[1m5/5\u001b[0m \u001b[32m━━━━━━━━━━━━━━━━━━━━\u001b[0m\u001b[37m\u001b[0m \u001b[1m1s\u001b[0m 60ms/step - accuracy: 0.5887 - loss: 1.0796 - val_accuracy: 0.6071 - val_loss: 1.0954\n",
      "Epoch 21/200\n",
      "\u001b[1m5/5\u001b[0m \u001b[32m━━━━━━━━━━━━━━━━━━━━\u001b[0m\u001b[37m\u001b[0m \u001b[1m0s\u001b[0m 71ms/step - accuracy: 0.4636 - loss: 1.1028 - val_accuracy: 0.6071 - val_loss: 1.0953\n",
      "Epoch 22/200\n",
      "\u001b[1m5/5\u001b[0m \u001b[32m━━━━━━━━━━━━━━━━━━━━\u001b[0m\u001b[37m\u001b[0m \u001b[1m0s\u001b[0m 74ms/step - accuracy: 0.4900 - loss: 1.0878 - val_accuracy: 0.6071 - val_loss: 1.0951\n",
      "Epoch 23/200\n",
      "\u001b[1m5/5\u001b[0m \u001b[32m━━━━━━━━━━━━━━━━━━━━\u001b[0m\u001b[37m\u001b[0m \u001b[1m0s\u001b[0m 61ms/step - accuracy: 0.5158 - loss: 1.0924 - val_accuracy: 0.6071 - val_loss: 1.0950\n",
      "Epoch 24/200\n",
      "\u001b[1m5/5\u001b[0m \u001b[32m━━━━━━━━━━━━━━━━━━━━\u001b[0m\u001b[37m\u001b[0m \u001b[1m0s\u001b[0m 59ms/step - accuracy: 0.4870 - loss: 1.0921 - val_accuracy: 0.6071 - val_loss: 1.0950\n",
      "Epoch 25/200\n",
      "\u001b[1m5/5\u001b[0m \u001b[32m━━━━━━━━━━━━━━━━━━━━\u001b[0m\u001b[37m\u001b[0m \u001b[1m0s\u001b[0m 75ms/step - accuracy: 0.5922 - loss: 1.0837 - val_accuracy: 0.6786 - val_loss: 1.0946\n",
      "Epoch 26/200\n",
      "\u001b[1m5/5\u001b[0m \u001b[32m━━━━━━━━━━━━━━━━━━━━\u001b[0m\u001b[37m\u001b[0m \u001b[1m1s\u001b[0m 65ms/step - accuracy: 0.5208 - loss: 1.0913 - val_accuracy: 0.6786 - val_loss: 1.0944\n",
      "Epoch 27/200\n",
      "\u001b[1m5/5\u001b[0m \u001b[32m━━━━━━━━━━━━━━━━━━━━\u001b[0m\u001b[37m\u001b[0m \u001b[1m0s\u001b[0m 56ms/step - accuracy: 0.5390 - loss: 1.0865 - val_accuracy: 0.6786 - val_loss: 1.0941\n",
      "Epoch 28/200\n",
      "\u001b[1m5/5\u001b[0m \u001b[32m━━━━━━━━━━━━━━━━━━━━\u001b[0m\u001b[37m\u001b[0m \u001b[1m0s\u001b[0m 67ms/step - accuracy: 0.4239 - loss: 1.0982 - val_accuracy: 0.6786 - val_loss: 1.0940\n",
      "Epoch 29/200\n",
      "\u001b[1m5/5\u001b[0m \u001b[32m━━━━━━━━━━━━━━━━━━━━\u001b[0m\u001b[37m\u001b[0m \u001b[1m1s\u001b[0m 60ms/step - accuracy: 0.5485 - loss: 1.0894 - val_accuracy: 0.6786 - val_loss: 1.0940\n",
      "Epoch 30/200\n",
      "\u001b[1m5/5\u001b[0m \u001b[32m━━━━━━━━━━━━━━━━━━━━\u001b[0m\u001b[37m\u001b[0m \u001b[1m0s\u001b[0m 67ms/step - accuracy: 0.5392 - loss: 1.0895 - val_accuracy: 0.6786 - val_loss: 1.0943\n",
      "Epoch 31/200\n",
      "\u001b[1m5/5\u001b[0m \u001b[32m━━━━━━━━━━━━━━━━━━━━\u001b[0m\u001b[37m\u001b[0m \u001b[1m1s\u001b[0m 60ms/step - accuracy: 0.4844 - loss: 1.0844 - val_accuracy: 0.4643 - val_loss: 1.0941\n",
      "Epoch 32/200\n",
      "\u001b[1m5/5\u001b[0m \u001b[32m━━━━━━━━━━━━━━━━━━━━\u001b[0m\u001b[37m\u001b[0m \u001b[1m0s\u001b[0m 58ms/step - accuracy: 0.5347 - loss: 1.1050 - val_accuracy: 0.4643 - val_loss: 1.0944\n",
      "Epoch 33/200\n",
      "\u001b[1m5/5\u001b[0m \u001b[32m━━━━━━━━━━━━━━━━━━━━\u001b[0m\u001b[37m\u001b[0m \u001b[1m0s\u001b[0m 53ms/step - accuracy: 0.4347 - loss: 1.0967 - val_accuracy: 0.4643 - val_loss: 1.0941\n",
      "Epoch 34/200\n",
      "\u001b[1m5/5\u001b[0m \u001b[32m━━━━━━━━━━━━━━━━━━━━\u001b[0m\u001b[37m\u001b[0m \u001b[1m0s\u001b[0m 71ms/step - accuracy: 0.4803 - loss: 1.0870 - val_accuracy: 0.4643 - val_loss: 1.0939\n",
      "Epoch 35/200\n",
      "\u001b[1m5/5\u001b[0m \u001b[32m━━━━━━━━━━━━━━━━━━━━\u001b[0m\u001b[37m\u001b[0m \u001b[1m1s\u001b[0m 58ms/step - accuracy: 0.4645 - loss: 1.1038 - val_accuracy: 0.6786 - val_loss: 1.0940\n",
      "Epoch 36/200\n",
      "\u001b[1m5/5\u001b[0m \u001b[32m━━━━━━━━━━━━━━━━━━━━\u001b[0m\u001b[37m\u001b[0m \u001b[1m0s\u001b[0m 56ms/step - accuracy: 0.4124 - loss: 1.0889 - val_accuracy: 0.6786 - val_loss: 1.0940\n",
      "Epoch 37/200\n",
      "\u001b[1m5/5\u001b[0m \u001b[32m━━━━━━━━━━━━━━━━━━━━\u001b[0m\u001b[37m\u001b[0m \u001b[1m0s\u001b[0m 51ms/step - accuracy: 0.5280 - loss: 1.0893 - val_accuracy: 0.6786 - val_loss: 1.0940\n",
      "Epoch 38/200\n",
      "\u001b[1m5/5\u001b[0m \u001b[32m━━━━━━━━━━━━━━━━━━━━\u001b[0m\u001b[37m\u001b[0m \u001b[1m0s\u001b[0m 54ms/step - accuracy: 0.4367 - loss: 1.0914 - val_accuracy: 0.6786 - val_loss: 1.0938\n",
      "Epoch 39/200\n",
      "\u001b[1m5/5\u001b[0m \u001b[32m━━━━━━━━━━━━━━━━━━━━\u001b[0m\u001b[37m\u001b[0m \u001b[1m0s\u001b[0m 61ms/step - accuracy: 0.4655 - loss: 1.0869 - val_accuracy: 0.6786 - val_loss: 1.0937\n",
      "Epoch 40/200\n",
      "\u001b[1m5/5\u001b[0m \u001b[32m━━━━━━━━━━━━━━━━━━━━\u001b[0m\u001b[37m\u001b[0m \u001b[1m0s\u001b[0m 71ms/step - accuracy: 0.4983 - loss: 1.0837 - val_accuracy: 0.5000 - val_loss: 1.0937\n",
      "Epoch 41/200\n",
      "\u001b[1m5/5\u001b[0m \u001b[32m━━━━━━━━━━━━━━━━━━━━\u001b[0m\u001b[37m\u001b[0m \u001b[1m1s\u001b[0m 65ms/step - accuracy: 0.5028 - loss: 1.0863 - val_accuracy: 0.4643 - val_loss: 1.0943\n",
      "Epoch 42/200\n",
      "\u001b[1m5/5\u001b[0m \u001b[32m━━━━━━━━━━━━━━━━━━━━\u001b[0m\u001b[37m\u001b[0m \u001b[1m0s\u001b[0m 71ms/step - accuracy: 0.4538 - loss: 1.0719 - val_accuracy: 0.4643 - val_loss: 1.0948\n",
      "Epoch 43/200\n",
      "\u001b[1m5/5\u001b[0m \u001b[32m━━━━━━━━━━━━━━━━━━━━\u001b[0m\u001b[37m\u001b[0m \u001b[1m1s\u001b[0m 72ms/step - accuracy: 0.3732 - loss: 1.1046 - val_accuracy: 0.4643 - val_loss: 1.0946\n",
      "Epoch 44/200\n",
      "\u001b[1m5/5\u001b[0m \u001b[32m━━━━━━━━━━━━━━━━━━━━\u001b[0m\u001b[37m\u001b[0m \u001b[1m0s\u001b[0m 81ms/step - accuracy: 0.5161 - loss: 1.0877 - val_accuracy: 0.4643 - val_loss: 1.0938\n",
      "Epoch 45/200\n",
      "\u001b[1m5/5\u001b[0m \u001b[32m━━━━━━━━━━━━━━━━━━━━\u001b[0m\u001b[37m\u001b[0m \u001b[1m1s\u001b[0m 65ms/step - accuracy: 0.4575 - loss: 1.0870 - val_accuracy: 0.4643 - val_loss: 1.0931\n",
      "Epoch 46/200\n",
      "\u001b[1m5/5\u001b[0m \u001b[32m━━━━━━━━━━━━━━━━━━━━\u001b[0m\u001b[37m\u001b[0m \u001b[1m0s\u001b[0m 75ms/step - accuracy: 0.5135 - loss: 1.0940 - val_accuracy: 0.6071 - val_loss: 1.0928\n",
      "Epoch 47/200\n",
      "\u001b[1m5/5\u001b[0m \u001b[32m━━━━━━━━━━━━━━━━━━━━\u001b[0m\u001b[37m\u001b[0m \u001b[1m1s\u001b[0m 57ms/step - accuracy: 0.4677 - loss: 1.0958 - val_accuracy: 0.5714 - val_loss: 1.0926\n",
      "Epoch 48/200\n",
      "\u001b[1m5/5\u001b[0m \u001b[32m━━━━━━━━━━━━━━━━━━━━\u001b[0m\u001b[37m\u001b[0m \u001b[1m0s\u001b[0m 64ms/step - accuracy: 0.4811 - loss: 1.0853 - val_accuracy: 0.6071 - val_loss: 1.0927\n",
      "Epoch 49/200\n",
      "\u001b[1m5/5\u001b[0m \u001b[32m━━━━━━━━━━━━━━━━━━━━\u001b[0m\u001b[37m\u001b[0m \u001b[1m0s\u001b[0m 89ms/step - accuracy: 0.4926 - loss: 1.1010 - val_accuracy: 0.6429 - val_loss: 1.0923\n",
      "Epoch 50/200\n",
      "\u001b[1m5/5\u001b[0m \u001b[32m━━━━━━━━━━━━━━━━━━━━\u001b[0m\u001b[37m\u001b[0m \u001b[1m1s\u001b[0m 73ms/step - accuracy: 0.5713 - loss: 1.0951 - val_accuracy: 0.6429 - val_loss: 1.0922\n",
      "Epoch 51/200\n",
      "\u001b[1m5/5\u001b[0m \u001b[32m━━━━━━━━━━━━━━━━━━━━\u001b[0m\u001b[37m\u001b[0m \u001b[1m1s\u001b[0m 69ms/step - accuracy: 0.4504 - loss: 1.0956 - val_accuracy: 0.6786 - val_loss: 1.0927\n",
      "Epoch 52/200\n",
      "\u001b[1m5/5\u001b[0m \u001b[32m━━━━━━━━━━━━━━━━━━━━\u001b[0m\u001b[37m\u001b[0m \u001b[1m1s\u001b[0m 60ms/step - accuracy: 0.4768 - loss: 1.0835 - val_accuracy: 0.6071 - val_loss: 1.0934\n",
      "Epoch 53/200\n",
      "\u001b[1m5/5\u001b[0m \u001b[32m━━━━━━━━━━━━━━━━━━━━\u001b[0m\u001b[37m\u001b[0m \u001b[1m0s\u001b[0m 61ms/step - accuracy: 0.4640 - loss: 1.1008 - val_accuracy: 0.6071 - val_loss: 1.0937\n",
      "Epoch 54/200\n",
      "\u001b[1m5/5\u001b[0m \u001b[32m━━━━━━━━━━━━━━━━━━━━\u001b[0m\u001b[37m\u001b[0m \u001b[1m0s\u001b[0m 79ms/step - accuracy: 0.4896 - loss: 1.1007 - val_accuracy: 0.6071 - val_loss: 1.0936\n",
      "Epoch 55/200\n",
      "\u001b[1m5/5\u001b[0m \u001b[32m━━━━━━━━━━━━━━━━━━━━\u001b[0m\u001b[37m\u001b[0m \u001b[1m1s\u001b[0m 99ms/step - accuracy: 0.4790 - loss: 1.0750 - val_accuracy: 0.6071 - val_loss: 1.0928\n",
      "Epoch 56/200\n",
      "\u001b[1m5/5\u001b[0m \u001b[32m━━━━━━━━━━━━━━━━━━━━\u001b[0m\u001b[37m\u001b[0m \u001b[1m0s\u001b[0m 66ms/step - accuracy: 0.5050 - loss: 1.0940 - val_accuracy: 0.6786 - val_loss: 1.0925\n",
      "Epoch 57/200\n",
      "\u001b[1m5/5\u001b[0m \u001b[32m━━━━━━━━━━━━━━━━━━━━\u001b[0m\u001b[37m\u001b[0m \u001b[1m0s\u001b[0m 87ms/step - accuracy: 0.4345 - loss: 1.0699 - val_accuracy: 0.6786 - val_loss: 1.0918\n",
      "Epoch 58/200\n",
      "\u001b[1m5/5\u001b[0m \u001b[32m━━━━━━━━━━━━━━━━━━━━\u001b[0m\u001b[37m\u001b[0m \u001b[1m1s\u001b[0m 64ms/step - accuracy: 0.5482 - loss: 1.0820 - val_accuracy: 0.6786 - val_loss: 1.0916\n",
      "Epoch 59/200\n",
      "\u001b[1m5/5\u001b[0m \u001b[32m━━━━━━━━━━━━━━━━━━━━\u001b[0m\u001b[37m\u001b[0m \u001b[1m0s\u001b[0m 58ms/step - accuracy: 0.4629 - loss: 1.0847 - val_accuracy: 0.6429 - val_loss: 1.0911\n",
      "Epoch 60/200\n",
      "\u001b[1m5/5\u001b[0m \u001b[32m━━━━━━━━━━━━━━━━━━━━\u001b[0m\u001b[37m\u001b[0m \u001b[1m0s\u001b[0m 66ms/step - accuracy: 0.4590 - loss: 1.0998 - val_accuracy: 0.6071 - val_loss: 1.0908\n",
      "Epoch 61/200\n",
      "\u001b[1m5/5\u001b[0m \u001b[32m━━━━━━━━━━━━━━━━━━━━\u001b[0m\u001b[37m\u001b[0m \u001b[1m0s\u001b[0m 66ms/step - accuracy: 0.4707 - loss: 1.0914 - val_accuracy: 0.6071 - val_loss: 1.0909\n",
      "Epoch 62/200\n",
      "\u001b[1m5/5\u001b[0m \u001b[32m━━━━━━━━━━━━━━━━━━━━\u001b[0m\u001b[37m\u001b[0m \u001b[1m1s\u001b[0m 58ms/step - accuracy: 0.5822 - loss: 1.0950 - val_accuracy: 0.6786 - val_loss: 1.0911\n",
      "Epoch 63/200\n",
      "\u001b[1m5/5\u001b[0m \u001b[32m━━━━━━━━━━━━━━━━━━━━\u001b[0m\u001b[37m\u001b[0m \u001b[1m0s\u001b[0m 56ms/step - accuracy: 0.5299 - loss: 1.0986 - val_accuracy: 0.6786 - val_loss: 1.0913\n",
      "Epoch 64/200\n",
      "\u001b[1m5/5\u001b[0m \u001b[32m━━━━━━━━━━━━━━━━━━━━\u001b[0m\u001b[37m\u001b[0m \u001b[1m0s\u001b[0m 62ms/step - accuracy: 0.4482 - loss: 1.0988 - val_accuracy: 0.6786 - val_loss: 1.0919\n",
      "Epoch 65/200\n",
      "\u001b[1m5/5\u001b[0m \u001b[32m━━━━━━━━━━━━━━━━━━━━\u001b[0m\u001b[37m\u001b[0m \u001b[1m0s\u001b[0m 74ms/step - accuracy: 0.4737 - loss: 1.0896 - val_accuracy: 0.4643 - val_loss: 1.0925\n",
      "Epoch 66/200\n",
      "\u001b[1m5/5\u001b[0m \u001b[32m━━━━━━━━━━━━━━━━━━━━\u001b[0m\u001b[37m\u001b[0m \u001b[1m0s\u001b[0m 65ms/step - accuracy: 0.5151 - loss: 1.0799 - val_accuracy: 0.4643 - val_loss: 1.0926\n",
      "Epoch 67/200\n",
      "\u001b[1m5/5\u001b[0m \u001b[32m━━━━━━━━━━━━━━━━━━━━\u001b[0m\u001b[37m\u001b[0m \u001b[1m1s\u001b[0m 79ms/step - accuracy: 0.5078 - loss: 1.0905 - val_accuracy: 0.4643 - val_loss: 1.0928\n",
      "Epoch 68/200\n",
      "\u001b[1m5/5\u001b[0m \u001b[32m━━━━━━━━━━━━━━━━━━━━\u001b[0m\u001b[37m\u001b[0m \u001b[1m1s\u001b[0m 61ms/step - accuracy: 0.4059 - loss: 1.0928 - val_accuracy: 0.4643 - val_loss: 1.0929\n",
      "Epoch 69/200\n",
      "\u001b[1m5/5\u001b[0m \u001b[32m━━━━━━━━━━━━━━━━━━━━\u001b[0m\u001b[37m\u001b[0m \u001b[1m0s\u001b[0m 57ms/step - accuracy: 0.5319 - loss: 1.1054 - val_accuracy: 0.4643 - val_loss: 1.0927\n",
      "Epoch 70/200\n",
      "\u001b[1m5/5\u001b[0m \u001b[32m━━━━━━━━━━━━━━━━━━━━\u001b[0m\u001b[37m\u001b[0m \u001b[1m0s\u001b[0m 55ms/step - accuracy: 0.4898 - loss: 1.0914 - val_accuracy: 0.3929 - val_loss: 1.0921\n",
      "Epoch 71/200\n",
      "\u001b[1m5/5\u001b[0m \u001b[32m━━━━━━━━━━━━━━━━━━━━\u001b[0m\u001b[37m\u001b[0m \u001b[1m0s\u001b[0m 58ms/step - accuracy: 0.3862 - loss: 1.1015 - val_accuracy: 0.3929 - val_loss: 1.0925\n",
      "Epoch 72/200\n",
      "\u001b[1m5/5\u001b[0m \u001b[32m━━━━━━━━━━━━━━━━━━━━\u001b[0m\u001b[37m\u001b[0m \u001b[1m0s\u001b[0m 61ms/step - accuracy: 0.4122 - loss: 1.0897 - val_accuracy: 0.3929 - val_loss: 1.0925\n",
      "Epoch 73/200\n",
      "\u001b[1m5/5\u001b[0m \u001b[32m━━━━━━━━━━━━━━━━━━━━\u001b[0m\u001b[37m\u001b[0m \u001b[1m0s\u001b[0m 57ms/step - accuracy: 0.4406 - loss: 1.0760 - val_accuracy: 0.3929 - val_loss: 1.0921\n",
      "Epoch 74/200\n",
      "\u001b[1m5/5\u001b[0m \u001b[32m━━━━━━━━━━━━━━━━━━━━\u001b[0m\u001b[37m\u001b[0m \u001b[1m0s\u001b[0m 67ms/step - accuracy: 0.4595 - loss: 1.0905 - val_accuracy: 0.4643 - val_loss: 1.0925\n",
      "Epoch 75/200\n",
      "\u001b[1m5/5\u001b[0m \u001b[32m━━━━━━━━━━━━━━━━━━━━\u001b[0m\u001b[37m\u001b[0m \u001b[1m1s\u001b[0m 55ms/step - accuracy: 0.5015 - loss: 1.0831 - val_accuracy: 0.4643 - val_loss: 1.0924\n",
      "Epoch 76/200\n",
      "\u001b[1m5/5\u001b[0m \u001b[32m━━━━━━━━━━━━━━━━━━━━\u001b[0m\u001b[37m\u001b[0m \u001b[1m0s\u001b[0m 58ms/step - accuracy: 0.4497 - loss: 1.0790 - val_accuracy: 0.4643 - val_loss: 1.0917\n",
      "Epoch 77/200\n",
      "\u001b[1m5/5\u001b[0m \u001b[32m━━━━━━━━━━━━━━━━━━━━\u001b[0m\u001b[37m\u001b[0m \u001b[1m0s\u001b[0m 57ms/step - accuracy: 0.5056 - loss: 1.0833 - val_accuracy: 0.4643 - val_loss: 1.0915\n",
      "Epoch 78/200\n",
      "\u001b[1m5/5\u001b[0m \u001b[32m━━━━━━━━━━━━━━━━━━━━\u001b[0m\u001b[37m\u001b[0m \u001b[1m0s\u001b[0m 51ms/step - accuracy: 0.5373 - loss: 1.0776 - val_accuracy: 0.6429 - val_loss: 1.0910\n",
      "Epoch 79/200\n",
      "\u001b[1m5/5\u001b[0m \u001b[32m━━━━━━━━━━━━━━━━━━━━\u001b[0m\u001b[37m\u001b[0m \u001b[1m0s\u001b[0m 59ms/step - accuracy: 0.5104 - loss: 1.0858 - val_accuracy: 0.6429 - val_loss: 1.0907\n",
      "Epoch 80/200\n",
      "\u001b[1m5/5\u001b[0m \u001b[32m━━━━━━━━━━━━━━━━━━━━\u001b[0m\u001b[37m\u001b[0m \u001b[1m0s\u001b[0m 78ms/step - accuracy: 0.3936 - loss: 1.1049 - val_accuracy: 0.6429 - val_loss: 1.0907\n",
      "Epoch 81/200\n",
      "\u001b[1m5/5\u001b[0m \u001b[32m━━━━━━━━━━━━━━━━━━━━\u001b[0m\u001b[37m\u001b[0m \u001b[1m0s\u001b[0m 58ms/step - accuracy: 0.4254 - loss: 1.0763 - val_accuracy: 0.6429 - val_loss: 1.0904\n",
      "Epoch 82/200\n",
      "\u001b[1m5/5\u001b[0m \u001b[32m━━━━━━━━━━━━━━━━━━━━\u001b[0m\u001b[37m\u001b[0m \u001b[1m0s\u001b[0m 58ms/step - accuracy: 0.4002 - loss: 1.0945 - val_accuracy: 0.6786 - val_loss: 1.0903\n",
      "Epoch 83/200\n",
      "\u001b[1m5/5\u001b[0m \u001b[32m━━━━━━━━━━━━━━━━━━━━\u001b[0m\u001b[37m\u001b[0m \u001b[1m0s\u001b[0m 58ms/step - accuracy: 0.6069 - loss: 1.0821 - val_accuracy: 0.6786 - val_loss: 1.0903\n",
      "Epoch 84/200\n",
      "\u001b[1m5/5\u001b[0m \u001b[32m━━━━━━━━━━━━━━━━━━━━\u001b[0m\u001b[37m\u001b[0m \u001b[1m0s\u001b[0m 54ms/step - accuracy: 0.6114 - loss: 1.0817 - val_accuracy: 0.6786 - val_loss: 1.0900\n",
      "Epoch 85/200\n",
      "\u001b[1m5/5\u001b[0m \u001b[32m━━━━━━━━━━━━━━━━━━━━\u001b[0m\u001b[37m\u001b[0m \u001b[1m0s\u001b[0m 71ms/step - accuracy: 0.5172 - loss: 1.0958 - val_accuracy: 0.6786 - val_loss: 1.0900\n",
      "Epoch 86/200\n",
      "\u001b[1m5/5\u001b[0m \u001b[32m━━━━━━━━━━━━━━━━━━━━\u001b[0m\u001b[37m\u001b[0m \u001b[1m1s\u001b[0m 65ms/step - accuracy: 0.6282 - loss: 1.0737 - val_accuracy: 0.6429 - val_loss: 1.0895\n",
      "Epoch 87/200\n",
      "\u001b[1m5/5\u001b[0m \u001b[32m━━━━━━━━━━━━━━━━━━━━\u001b[0m\u001b[37m\u001b[0m \u001b[1m0s\u001b[0m 89ms/step - accuracy: 0.4228 - loss: 1.0862 - val_accuracy: 0.5714 - val_loss: 1.0893\n",
      "Epoch 88/200\n",
      "\u001b[1m5/5\u001b[0m \u001b[32m━━━━━━━━━━━━━━━━━━━━\u001b[0m\u001b[37m\u001b[0m \u001b[1m1s\u001b[0m 76ms/step - accuracy: 0.5204 - loss: 1.0852 - val_accuracy: 0.5714 - val_loss: 1.0892\n",
      "Epoch 89/200\n",
      "\u001b[1m5/5\u001b[0m \u001b[32m━━━━━━━━━━━━━━━━━━━━\u001b[0m\u001b[37m\u001b[0m \u001b[1m0s\u001b[0m 72ms/step - accuracy: 0.5239 - loss: 1.0863 - val_accuracy: 0.6429 - val_loss: 1.0894\n",
      "Epoch 90/200\n",
      "\u001b[1m5/5\u001b[0m \u001b[32m━━━━━━━━━━━━━━━━━━━━\u001b[0m\u001b[37m\u001b[0m \u001b[1m1s\u001b[0m 71ms/step - accuracy: 0.4601 - loss: 1.0778 - val_accuracy: 0.6786 - val_loss: 1.0897\n",
      "Epoch 91/200\n",
      "\u001b[1m5/5\u001b[0m \u001b[32m━━━━━━━━━━━━━━━━━━━━\u001b[0m\u001b[37m\u001b[0m \u001b[1m0s\u001b[0m 64ms/step - accuracy: 0.5039 - loss: 1.0819 - val_accuracy: 0.6786 - val_loss: 1.0899\n",
      "Epoch 92/200\n",
      "\u001b[1m5/5\u001b[0m \u001b[32m━━━━━━━━━━━━━━━━━━━━\u001b[0m\u001b[37m\u001b[0m \u001b[1m0s\u001b[0m 91ms/step - accuracy: 0.5544 - loss: 1.0696 - val_accuracy: 0.6071 - val_loss: 1.0905\n",
      "Epoch 93/200\n",
      "\u001b[1m5/5\u001b[0m \u001b[32m━━━━━━━━━━━━━━━━━━━━\u001b[0m\u001b[37m\u001b[0m \u001b[1m1s\u001b[0m 61ms/step - accuracy: 0.6065 - loss: 1.0748 - val_accuracy: 0.6071 - val_loss: 1.0908\n",
      "Epoch 94/200\n",
      "\u001b[1m5/5\u001b[0m \u001b[32m━━━━━━━━━━━━━━━━━━━━\u001b[0m\u001b[37m\u001b[0m \u001b[1m0s\u001b[0m 53ms/step - accuracy: 0.5546 - loss: 1.0874 - val_accuracy: 0.6071 - val_loss: 1.0911\n",
      "Epoch 95/200\n",
      "\u001b[1m5/5\u001b[0m \u001b[32m━━━━━━━━━━━━━━━━━━━━\u001b[0m\u001b[37m\u001b[0m \u001b[1m0s\u001b[0m 86ms/step - accuracy: 0.4876 - loss: 1.0781 - val_accuracy: 0.6071 - val_loss: 1.0909\n",
      "Epoch 96/200\n",
      "\u001b[1m5/5\u001b[0m \u001b[32m━━━━━━━━━━━━━━━━━━━━\u001b[0m\u001b[37m\u001b[0m \u001b[1m0s\u001b[0m 78ms/step - accuracy: 0.4534 - loss: 1.0896 - val_accuracy: 0.6071 - val_loss: 1.0902\n",
      "Epoch 97/200\n",
      "\u001b[1m5/5\u001b[0m \u001b[32m━━━━━━━━━━━━━━━━━━━━\u001b[0m\u001b[37m\u001b[0m \u001b[1m1s\u001b[0m 104ms/step - accuracy: 0.5202 - loss: 1.0795 - val_accuracy: 0.6071 - val_loss: 1.0900\n",
      "Epoch 98/200\n",
      "\u001b[1m5/5\u001b[0m \u001b[32m━━━━━━━━━━━━━━━━━━━━\u001b[0m\u001b[37m\u001b[0m \u001b[1m0s\u001b[0m 82ms/step - accuracy: 0.6418 - loss: 1.0826 - val_accuracy: 0.6071 - val_loss: 1.0895\n",
      "Epoch 99/200\n",
      "\u001b[1m5/5\u001b[0m \u001b[32m━━━━━━━━━━━━━━━━━━━━\u001b[0m\u001b[37m\u001b[0m \u001b[1m1s\u001b[0m 77ms/step - accuracy: 0.5067 - loss: 1.0781 - val_accuracy: 0.6786 - val_loss: 1.0886\n",
      "Epoch 100/200\n",
      "\u001b[1m5/5\u001b[0m \u001b[32m━━━━━━━━━━━━━━━━━━━━\u001b[0m\u001b[37m\u001b[0m \u001b[1m1s\u001b[0m 96ms/step - accuracy: 0.4868 - loss: 1.0894 - val_accuracy: 0.6786 - val_loss: 1.0890\n",
      "Epoch 101/200\n",
      "\u001b[1m5/5\u001b[0m \u001b[32m━━━━━━━━━━━━━━━━━━━━\u001b[0m\u001b[37m\u001b[0m \u001b[1m0s\u001b[0m 70ms/step - accuracy: 0.5382 - loss: 1.0844 - val_accuracy: 0.6786 - val_loss: 1.0892\n",
      "Epoch 102/200\n",
      "\u001b[1m5/5\u001b[0m \u001b[32m━━━━━━━━━━━━━━━━━━━━\u001b[0m\u001b[37m\u001b[0m \u001b[1m0s\u001b[0m 83ms/step - accuracy: 0.5677 - loss: 1.0707 - val_accuracy: 0.6786 - val_loss: 1.0892\n",
      "Epoch 103/200\n",
      "\u001b[1m5/5\u001b[0m \u001b[32m━━━━━━━━━━━━━━━━━━━━\u001b[0m\u001b[37m\u001b[0m \u001b[1m1s\u001b[0m 111ms/step - accuracy: 0.5286 - loss: 1.0850 - val_accuracy: 0.5000 - val_loss: 1.0900\n",
      "Epoch 104/200\n",
      "\u001b[1m5/5\u001b[0m \u001b[32m━━━━━━━━━━━━━━━━━━━━\u001b[0m\u001b[37m\u001b[0m \u001b[1m1s\u001b[0m 101ms/step - accuracy: 0.5074 - loss: 1.0756 - val_accuracy: 0.6071 - val_loss: 1.0908\n",
      "Epoch 105/200\n",
      "\u001b[1m5/5\u001b[0m \u001b[32m━━━━━━━━━━━━━━━━━━━━\u001b[0m\u001b[37m\u001b[0m \u001b[1m1s\u001b[0m 91ms/step - accuracy: 0.4451 - loss: 1.0964 - val_accuracy: 0.6071 - val_loss: 1.0914\n",
      "Epoch 106/200\n",
      "\u001b[1m5/5\u001b[0m \u001b[32m━━━━━━━━━━━━━━━━━━━━\u001b[0m\u001b[37m\u001b[0m \u001b[1m1s\u001b[0m 65ms/step - accuracy: 0.5128 - loss: 1.0839 - val_accuracy: 0.6071 - val_loss: 1.0909\n",
      "Epoch 107/200\n",
      "\u001b[1m5/5\u001b[0m \u001b[32m━━━━━━━━━━━━━━━━━━━━\u001b[0m\u001b[37m\u001b[0m \u001b[1m0s\u001b[0m 75ms/step - accuracy: 0.5453 - loss: 1.0657 - val_accuracy: 0.6071 - val_loss: 1.0902\n",
      "Epoch 108/200\n",
      "\u001b[1m5/5\u001b[0m \u001b[32m━━━━━━━━━━━━━━━━━━━━\u001b[0m\u001b[37m\u001b[0m \u001b[1m1s\u001b[0m 83ms/step - accuracy: 0.5331 - loss: 1.0799 - val_accuracy: 0.6071 - val_loss: 1.0904\n",
      "Epoch 109/200\n",
      "\u001b[1m5/5\u001b[0m \u001b[32m━━━━━━━━━━━━━━━━━━━━\u001b[0m\u001b[37m\u001b[0m \u001b[1m1s\u001b[0m 75ms/step - accuracy: 0.5195 - loss: 1.0830 - val_accuracy: 0.6071 - val_loss: 1.0900\n",
      "Epoch 110/200\n",
      "\u001b[1m5/5\u001b[0m \u001b[32m━━━━━━━━━━━━━━━━━━━━\u001b[0m\u001b[37m\u001b[0m \u001b[1m0s\u001b[0m 93ms/step - accuracy: 0.4350 - loss: 1.0902 - val_accuracy: 0.6786 - val_loss: 1.0886\n",
      "Epoch 111/200\n",
      "\u001b[1m5/5\u001b[0m \u001b[32m━━━━━━━━━━━━━━━━━━━━\u001b[0m\u001b[37m\u001b[0m \u001b[1m1s\u001b[0m 76ms/step - accuracy: 0.5518 - loss: 1.1026 - val_accuracy: 0.6786 - val_loss: 1.0882\n",
      "Epoch 112/200\n",
      "\u001b[1m5/5\u001b[0m \u001b[32m━━━━━━━━━━━━━━━━━━━━\u001b[0m\u001b[37m\u001b[0m \u001b[1m1s\u001b[0m 74ms/step - accuracy: 0.4779 - loss: 1.0822 - val_accuracy: 0.6786 - val_loss: 1.0880\n",
      "Epoch 113/200\n",
      "\u001b[1m5/5\u001b[0m \u001b[32m━━━━━━━━━━━━━━━━━━━━\u001b[0m\u001b[37m\u001b[0m \u001b[1m1s\u001b[0m 93ms/step - accuracy: 0.5577 - loss: 1.0884 - val_accuracy: 0.6786 - val_loss: 1.0875\n",
      "Epoch 114/200\n",
      "\u001b[1m5/5\u001b[0m \u001b[32m━━━━━━━━━━━━━━━━━━━━\u001b[0m\u001b[37m\u001b[0m \u001b[1m1s\u001b[0m 96ms/step - accuracy: 0.5516 - loss: 1.0788 - val_accuracy: 0.6429 - val_loss: 1.0870\n",
      "Epoch 115/200\n",
      "\u001b[1m5/5\u001b[0m \u001b[32m━━━━━━━━━━━━━━━━━━━━\u001b[0m\u001b[37m\u001b[0m \u001b[1m0s\u001b[0m 102ms/step - accuracy: 0.5208 - loss: 1.0975 - val_accuracy: 0.6786 - val_loss: 1.0878\n",
      "Epoch 116/200\n",
      "\u001b[1m5/5\u001b[0m \u001b[32m━━━━━━━━━━━━━━━━━━━━\u001b[0m\u001b[37m\u001b[0m \u001b[1m0s\u001b[0m 72ms/step - accuracy: 0.4779 - loss: 1.0848 - val_accuracy: 0.6786 - val_loss: 1.0877\n",
      "Epoch 117/200\n",
      "\u001b[1m5/5\u001b[0m \u001b[32m━━━━━━━━━━━━━━━━━━━━\u001b[0m\u001b[37m\u001b[0m \u001b[1m1s\u001b[0m 84ms/step - accuracy: 0.3963 - loss: 1.1086 - val_accuracy: 0.6786 - val_loss: 1.0879\n",
      "Epoch 118/200\n",
      "\u001b[1m5/5\u001b[0m \u001b[32m━━━━━━━━━━━━━━━━━━━━\u001b[0m\u001b[37m\u001b[0m \u001b[1m1s\u001b[0m 100ms/step - accuracy: 0.4204 - loss: 1.1000 - val_accuracy: 0.6786 - val_loss: 1.0887\n",
      "Epoch 119/200\n",
      "\u001b[1m5/5\u001b[0m \u001b[32m━━━━━━━━━━━━━━━━━━━━\u001b[0m\u001b[37m\u001b[0m \u001b[1m0s\u001b[0m 56ms/step - accuracy: 0.5187 - loss: 1.0905 - val_accuracy: 0.6786 - val_loss: 1.0887\n",
      "Epoch 120/200\n",
      "\u001b[1m5/5\u001b[0m \u001b[32m━━━━━━━━━━━━━━━━━━━━\u001b[0m\u001b[37m\u001b[0m \u001b[1m0s\u001b[0m 67ms/step - accuracy: 0.5432 - loss: 1.0939 - val_accuracy: 0.6786 - val_loss: 1.0887\n",
      "Epoch 121/200\n",
      "\u001b[1m5/5\u001b[0m \u001b[32m━━━━━━━━━━━━━━━━━━━━\u001b[0m\u001b[37m\u001b[0m \u001b[1m1s\u001b[0m 92ms/step - accuracy: 0.5792 - loss: 1.0924 - val_accuracy: 0.6071 - val_loss: 1.0886\n",
      "Epoch 122/200\n",
      "\u001b[1m5/5\u001b[0m \u001b[32m━━━━━━━━━━━━━━━━━━━━\u001b[0m\u001b[37m\u001b[0m \u001b[1m1s\u001b[0m 98ms/step - accuracy: 0.5319 - loss: 1.0788 - val_accuracy: 0.6786 - val_loss: 1.0883\n",
      "Epoch 123/200\n",
      "\u001b[1m5/5\u001b[0m \u001b[32m━━━━━━━━━━━━━━━━━━━━\u001b[0m\u001b[37m\u001b[0m \u001b[1m0s\u001b[0m 57ms/step - accuracy: 0.5785 - loss: 1.0866 - val_accuracy: 0.6786 - val_loss: 1.0882\n",
      "Epoch 124/200\n",
      "\u001b[1m5/5\u001b[0m \u001b[32m━━━━━━━━━━━━━━━━━━━━\u001b[0m\u001b[37m\u001b[0m \u001b[1m1s\u001b[0m 99ms/step - accuracy: 0.5319 - loss: 1.0852 - val_accuracy: 0.4643 - val_loss: 1.0881\n",
      "Epoch 125/200\n",
      "\u001b[1m5/5\u001b[0m \u001b[32m━━━━━━━━━━━━━━━━━━━━\u001b[0m\u001b[37m\u001b[0m \u001b[1m1s\u001b[0m 69ms/step - accuracy: 0.4581 - loss: 1.0995 - val_accuracy: 0.4643 - val_loss: 1.0883\n",
      "Epoch 126/200\n",
      "\u001b[1m5/5\u001b[0m \u001b[32m━━━━━━━━━━━━━━━━━━━━\u001b[0m\u001b[37m\u001b[0m \u001b[1m1s\u001b[0m 70ms/step - accuracy: 0.5560 - loss: 1.0790 - val_accuracy: 0.4643 - val_loss: 1.0884\n",
      "Epoch 127/200\n",
      "\u001b[1m5/5\u001b[0m \u001b[32m━━━━━━━━━━━━━━━━━━━━\u001b[0m\u001b[37m\u001b[0m \u001b[1m1s\u001b[0m 103ms/step - accuracy: 0.5341 - loss: 1.0705 - val_accuracy: 0.4643 - val_loss: 1.0881\n",
      "Epoch 128/200\n",
      "\u001b[1m5/5\u001b[0m \u001b[32m━━━━━━━━━━━━━━━━━━━━\u001b[0m\u001b[37m\u001b[0m \u001b[1m0s\u001b[0m 94ms/step - accuracy: 0.4477 - loss: 1.0965 - val_accuracy: 0.4643 - val_loss: 1.0878\n",
      "Epoch 129/200\n",
      "\u001b[1m5/5\u001b[0m \u001b[32m━━━━━━━━━━━━━━━━━━━━\u001b[0m\u001b[37m\u001b[0m \u001b[1m1s\u001b[0m 67ms/step - accuracy: 0.5299 - loss: 1.1059 - val_accuracy: 0.4643 - val_loss: 1.0876\n",
      "Epoch 130/200\n",
      "\u001b[1m5/5\u001b[0m \u001b[32m━━━━━━━━━━━━━━━━━━━━\u001b[0m\u001b[37m\u001b[0m \u001b[1m1s\u001b[0m 102ms/step - accuracy: 0.5026 - loss: 1.0933 - val_accuracy: 0.6786 - val_loss: 1.0876\n",
      "Epoch 131/200\n",
      "\u001b[1m5/5\u001b[0m \u001b[32m━━━━━━━━━━━━━━━━━━━━\u001b[0m\u001b[37m\u001b[0m \u001b[1m0s\u001b[0m 95ms/step - accuracy: 0.5084 - loss: 1.0835 - val_accuracy: 0.6786 - val_loss: 1.0878\n",
      "Epoch 132/200\n",
      "\u001b[1m5/5\u001b[0m \u001b[32m━━━━━━━━━━━━━━━━━━━━\u001b[0m\u001b[37m\u001b[0m \u001b[1m1s\u001b[0m 103ms/step - accuracy: 0.6160 - loss: 1.0783 - val_accuracy: 0.6071 - val_loss: 1.0876\n",
      "Epoch 133/200\n",
      "\u001b[1m5/5\u001b[0m \u001b[32m━━━━━━━━━━━━━━━━━━━━\u001b[0m\u001b[37m\u001b[0m \u001b[1m0s\u001b[0m 90ms/step - accuracy: 0.5002 - loss: 1.0742 - val_accuracy: 0.6071 - val_loss: 1.0872\n",
      "Epoch 134/200\n",
      "\u001b[1m5/5\u001b[0m \u001b[32m━━━━━━━━━━━━━━━━━━━━\u001b[0m\u001b[37m\u001b[0m \u001b[1m1s\u001b[0m 69ms/step - accuracy: 0.5390 - loss: 1.0802 - val_accuracy: 0.6071 - val_loss: 1.0875\n",
      "Epoch 135/200\n",
      "\u001b[1m5/5\u001b[0m \u001b[32m━━━━━━━━━━━━━━━━━━━━\u001b[0m\u001b[37m\u001b[0m \u001b[1m1s\u001b[0m 104ms/step - accuracy: 0.5683 - loss: 1.0749 - val_accuracy: 0.6071 - val_loss: 1.0881\n",
      "Epoch 136/200\n",
      "\u001b[1m5/5\u001b[0m \u001b[32m━━━━━━━━━━━━━━━━━━━━\u001b[0m\u001b[37m\u001b[0m \u001b[1m1s\u001b[0m 89ms/step - accuracy: 0.5525 - loss: 1.0924 - val_accuracy: 0.6071 - val_loss: 1.0885\n",
      "Epoch 137/200\n",
      "\u001b[1m5/5\u001b[0m \u001b[32m━━━━━━━━━━━━━━━━━━━━\u001b[0m\u001b[37m\u001b[0m \u001b[1m1s\u001b[0m 63ms/step - accuracy: 0.5401 - loss: 1.0852 - val_accuracy: 0.6071 - val_loss: 1.0873\n",
      "Epoch 138/200\n",
      "\u001b[1m5/5\u001b[0m \u001b[32m━━━━━━━━━━━━━━━━━━━━\u001b[0m\u001b[37m\u001b[0m \u001b[1m1s\u001b[0m 88ms/step - accuracy: 0.5449 - loss: 1.0913 - val_accuracy: 0.6071 - val_loss: 1.0864\n",
      "Epoch 139/200\n",
      "\u001b[1m5/5\u001b[0m \u001b[32m━━━━━━━━━━━━━━━━━━━━\u001b[0m\u001b[37m\u001b[0m \u001b[1m1s\u001b[0m 88ms/step - accuracy: 0.5913 - loss: 1.0870 - val_accuracy: 0.6071 - val_loss: 1.0860\n",
      "Epoch 140/200\n",
      "\u001b[1m5/5\u001b[0m \u001b[32m━━━━━━━━━━━━━━━━━━━━\u001b[0m\u001b[37m\u001b[0m \u001b[1m1s\u001b[0m 92ms/step - accuracy: 0.4757 - loss: 1.1007 - val_accuracy: 0.6071 - val_loss: 1.0859\n",
      "Epoch 141/200\n",
      "\u001b[1m5/5\u001b[0m \u001b[32m━━━━━━━━━━━━━━━━━━━━\u001b[0m\u001b[37m\u001b[0m \u001b[1m0s\u001b[0m 57ms/step - accuracy: 0.6355 - loss: 1.0690 - val_accuracy: 0.6786 - val_loss: 1.0852\n",
      "Epoch 142/200\n",
      "\u001b[1m5/5\u001b[0m \u001b[32m━━━━━━━━━━━━━━━━━━━━\u001b[0m\u001b[37m\u001b[0m \u001b[1m1s\u001b[0m 98ms/step - accuracy: 0.5618 - loss: 1.0774 - val_accuracy: 0.6786 - val_loss: 1.0849\n",
      "Epoch 143/200\n",
      "\u001b[1m5/5\u001b[0m \u001b[32m━━━━━━━━━━━━━━━━━━━━\u001b[0m\u001b[37m\u001b[0m \u001b[1m0s\u001b[0m 93ms/step - accuracy: 0.5338 - loss: 1.0765 - val_accuracy: 0.6071 - val_loss: 1.0861\n",
      "Epoch 144/200\n",
      "\u001b[1m5/5\u001b[0m \u001b[32m━━━━━━━━━━━━━━━━━━━━\u001b[0m\u001b[37m\u001b[0m \u001b[1m1s\u001b[0m 76ms/step - accuracy: 0.5212 - loss: 1.0789 - val_accuracy: 0.6071 - val_loss: 1.0868\n",
      "Epoch 145/200\n",
      "\u001b[1m5/5\u001b[0m \u001b[32m━━━━━━━━━━━━━━━━━━━━\u001b[0m\u001b[37m\u001b[0m \u001b[1m1s\u001b[0m 104ms/step - accuracy: 0.6132 - loss: 1.0728 - val_accuracy: 0.6071 - val_loss: 1.0864\n",
      "Epoch 146/200\n",
      "\u001b[1m5/5\u001b[0m \u001b[32m━━━━━━━━━━━━━━━━━━━━\u001b[0m\u001b[37m\u001b[0m \u001b[1m1s\u001b[0m 68ms/step - accuracy: 0.5596 - loss: 1.0710 - val_accuracy: 0.6071 - val_loss: 1.0861\n",
      "Epoch 147/200\n",
      "\u001b[1m5/5\u001b[0m \u001b[32m━━━━━━━━━━━━━━━━━━━━\u001b[0m\u001b[37m\u001b[0m \u001b[1m1s\u001b[0m 64ms/step - accuracy: 0.5826 - loss: 1.0731 - val_accuracy: 0.6071 - val_loss: 1.0861\n",
      "Epoch 148/200\n",
      "\u001b[1m5/5\u001b[0m \u001b[32m━━━━━━━━━━━━━━━━━━━━\u001b[0m\u001b[37m\u001b[0m \u001b[1m1s\u001b[0m 107ms/step - accuracy: 0.4326 - loss: 1.0899 - val_accuracy: 0.6786 - val_loss: 1.0858\n",
      "Epoch 149/200\n",
      "\u001b[1m5/5\u001b[0m \u001b[32m━━━━━━━━━━━━━━━━━━━━\u001b[0m\u001b[37m\u001b[0m \u001b[1m0s\u001b[0m 61ms/step - accuracy: 0.4909 - loss: 1.1068 - val_accuracy: 0.6786 - val_loss: 1.0857\n",
      "Epoch 150/200\n",
      "\u001b[1m5/5\u001b[0m \u001b[32m━━━━━━━━━━━━━━━━━━━━\u001b[0m\u001b[37m\u001b[0m \u001b[1m1s\u001b[0m 67ms/step - accuracy: 0.5408 - loss: 1.0920 - val_accuracy: 0.6786 - val_loss: 1.0856\n",
      "Epoch 151/200\n",
      "\u001b[1m5/5\u001b[0m \u001b[32m━━━━━━━━━━━━━━━━━━━━\u001b[0m\u001b[37m\u001b[0m \u001b[1m1s\u001b[0m 62ms/step - accuracy: 0.5761 - loss: 1.0819 - val_accuracy: 0.6071 - val_loss: 1.0861\n",
      "Epoch 152/200\n",
      "\u001b[1m5/5\u001b[0m \u001b[32m━━━━━━━━━━━━━━━━━━━━\u001b[0m\u001b[37m\u001b[0m \u001b[1m0s\u001b[0m 72ms/step - accuracy: 0.5613 - loss: 1.0848 - val_accuracy: 0.6071 - val_loss: 1.0862\n",
      "Epoch 153/200\n",
      "\u001b[1m5/5\u001b[0m \u001b[32m━━━━━━━━━━━━━━━━━━━━\u001b[0m\u001b[37m\u001b[0m \u001b[1m0s\u001b[0m 92ms/step - accuracy: 0.4811 - loss: 1.0729 - val_accuracy: 0.6071 - val_loss: 1.0862\n",
      "Epoch 154/200\n",
      "\u001b[1m5/5\u001b[0m \u001b[32m━━━━━━━━━━━━━━━━━━━━\u001b[0m\u001b[37m\u001b[0m \u001b[1m1s\u001b[0m 100ms/step - accuracy: 0.5937 - loss: 1.0832 - val_accuracy: 0.6071 - val_loss: 1.0862\n",
      "Epoch 155/200\n",
      "\u001b[1m5/5\u001b[0m \u001b[32m━━━━━━━━━━━━━━━━━━━━\u001b[0m\u001b[37m\u001b[0m \u001b[1m1s\u001b[0m 100ms/step - accuracy: 0.6455 - loss: 1.0850 - val_accuracy: 0.6071 - val_loss: 1.0862\n",
      "Epoch 156/200\n",
      "\u001b[1m5/5\u001b[0m \u001b[32m━━━━━━━━━━━━━━━━━━━━\u001b[0m\u001b[37m\u001b[0m \u001b[1m1s\u001b[0m 66ms/step - accuracy: 0.5512 - loss: 1.0971 - val_accuracy: 0.6071 - val_loss: 1.0860\n",
      "Epoch 157/200\n",
      "\u001b[1m5/5\u001b[0m \u001b[32m━━━━━━━━━━━━━━━━━━━━\u001b[0m\u001b[37m\u001b[0m \u001b[1m0s\u001b[0m 84ms/step - accuracy: 0.5214 - loss: 1.0827 - val_accuracy: 0.6786 - val_loss: 1.0852\n",
      "Epoch 158/200\n",
      "\u001b[1m5/5\u001b[0m \u001b[32m━━━━━━━━━━━━━━━━━━━━\u001b[0m\u001b[37m\u001b[0m \u001b[1m1s\u001b[0m 61ms/step - accuracy: 0.5338 - loss: 1.0871 - val_accuracy: 0.6786 - val_loss: 1.0849\n",
      "Epoch 159/200\n",
      "\u001b[1m5/5\u001b[0m \u001b[32m━━━━━━━━━━━━━━━━━━━━\u001b[0m\u001b[37m\u001b[0m \u001b[1m1s\u001b[0m 100ms/step - accuracy: 0.5943 - loss: 1.0852 - val_accuracy: 0.6786 - val_loss: 1.0850\n",
      "Epoch 160/200\n",
      "\u001b[1m5/5\u001b[0m \u001b[32m━━━━━━━━━━━━━━━━━━━━\u001b[0m\u001b[37m\u001b[0m \u001b[1m1s\u001b[0m 97ms/step - accuracy: 0.5453 - loss: 1.0823 - val_accuracy: 0.6786 - val_loss: 1.0848\n",
      "Epoch 161/200\n",
      "\u001b[1m5/5\u001b[0m \u001b[32m━━━━━━━━━━━━━━━━━━━━\u001b[0m\u001b[37m\u001b[0m \u001b[1m1s\u001b[0m 68ms/step - accuracy: 0.6210 - loss: 1.0653 - val_accuracy: 0.6786 - val_loss: 1.0845\n",
      "Epoch 162/200\n",
      "\u001b[1m5/5\u001b[0m \u001b[32m━━━━━━━━━━━━━━━━━━━━\u001b[0m\u001b[37m\u001b[0m \u001b[1m1s\u001b[0m 71ms/step - accuracy: 0.5167 - loss: 1.0877 - val_accuracy: 0.6071 - val_loss: 1.0849\n",
      "Epoch 163/200\n",
      "\u001b[1m5/5\u001b[0m \u001b[32m━━━━━━━━━━━━━━━━━━━━\u001b[0m\u001b[37m\u001b[0m \u001b[1m0s\u001b[0m 78ms/step - accuracy: 0.6013 - loss: 1.0695 - val_accuracy: 0.6071 - val_loss: 1.0849\n",
      "Epoch 164/200\n",
      "\u001b[1m5/5\u001b[0m \u001b[32m━━━━━━━━━━━━━━━━━━━━\u001b[0m\u001b[37m\u001b[0m \u001b[1m1s\u001b[0m 76ms/step - accuracy: 0.6589 - loss: 1.0721 - val_accuracy: 0.6071 - val_loss: 1.0850\n",
      "Epoch 165/200\n",
      "\u001b[1m5/5\u001b[0m \u001b[32m━━━━━━━━━━━━━━━━━━━━\u001b[0m\u001b[37m\u001b[0m \u001b[1m1s\u001b[0m 96ms/step - accuracy: 0.4551 - loss: 1.0845 - val_accuracy: 0.6786 - val_loss: 1.0838\n",
      "Epoch 166/200\n",
      "\u001b[1m5/5\u001b[0m \u001b[32m━━━━━━━━━━━━━━━━━━━━\u001b[0m\u001b[37m\u001b[0m \u001b[1m1s\u001b[0m 64ms/step - accuracy: 0.6002 - loss: 1.0686 - val_accuracy: 0.6786 - val_loss: 1.0829\n",
      "Epoch 167/200\n",
      "\u001b[1m5/5\u001b[0m \u001b[32m━━━━━━━━━━━━━━━━━━━━\u001b[0m\u001b[37m\u001b[0m \u001b[1m1s\u001b[0m 91ms/step - accuracy: 0.5943 - loss: 1.0672 - val_accuracy: 0.6786 - val_loss: 1.0827\n",
      "Epoch 168/200\n",
      "\u001b[1m5/5\u001b[0m \u001b[32m━━━━━━━━━━━━━━━━━━━━\u001b[0m\u001b[37m\u001b[0m \u001b[1m1s\u001b[0m 85ms/step - accuracy: 0.5633 - loss: 1.0787 - val_accuracy: 0.6786 - val_loss: 1.0828\n",
      "Epoch 169/200\n",
      "\u001b[1m5/5\u001b[0m \u001b[32m━━━━━━━━━━━━━━━━━━━━\u001b[0m\u001b[37m\u001b[0m \u001b[1m1s\u001b[0m 98ms/step - accuracy: 0.5596 - loss: 1.0743 - val_accuracy: 0.6786 - val_loss: 1.0825\n",
      "Epoch 170/200\n",
      "\u001b[1m5/5\u001b[0m \u001b[32m━━━━━━━━━━━━━━━━━━━━\u001b[0m\u001b[37m\u001b[0m \u001b[1m0s\u001b[0m 65ms/step - accuracy: 0.5455 - loss: 1.0939 - val_accuracy: 0.6786 - val_loss: 1.0829\n",
      "Epoch 171/200\n",
      "\u001b[1m5/5\u001b[0m \u001b[32m━━━━━━━━━━━━━━━━━━━━\u001b[0m\u001b[37m\u001b[0m \u001b[1m0s\u001b[0m 96ms/step - accuracy: 0.6052 - loss: 1.0695 - val_accuracy: 0.6786 - val_loss: 1.0827\n",
      "Epoch 172/200\n",
      "\u001b[1m5/5\u001b[0m \u001b[32m━━━━━━━━━━━━━━━━━━━━\u001b[0m\u001b[37m\u001b[0m \u001b[1m1s\u001b[0m 65ms/step - accuracy: 0.5431 - loss: 1.0988 - val_accuracy: 0.6786 - val_loss: 1.0833\n",
      "Epoch 173/200\n",
      "\u001b[1m5/5\u001b[0m \u001b[32m━━━━━━━━━━━━━━━━━━━━\u001b[0m\u001b[37m\u001b[0m \u001b[1m0s\u001b[0m 94ms/step - accuracy: 0.5525 - loss: 1.0691 - val_accuracy: 0.6786 - val_loss: 1.0832\n",
      "Epoch 174/200\n",
      "\u001b[1m5/5\u001b[0m \u001b[32m━━━━━━━━━━━━━━━━━━━━\u001b[0m\u001b[37m\u001b[0m \u001b[1m1s\u001b[0m 96ms/step - accuracy: 0.5169 - loss: 1.0873 - val_accuracy: 0.6071 - val_loss: 1.0841\n",
      "Epoch 175/200\n",
      "\u001b[1m5/5\u001b[0m \u001b[32m━━━━━━━━━━━━━━━━━━━━\u001b[0m\u001b[37m\u001b[0m \u001b[1m1s\u001b[0m 96ms/step - accuracy: 0.6043 - loss: 1.0799 - val_accuracy: 0.6071 - val_loss: 1.0840\n",
      "Epoch 176/200\n",
      "\u001b[1m5/5\u001b[0m \u001b[32m━━━━━━━━━━━━━━━━━━━━\u001b[0m\u001b[37m\u001b[0m \u001b[1m1s\u001b[0m 67ms/step - accuracy: 0.5490 - loss: 1.0744 - val_accuracy: 0.6071 - val_loss: 1.0833\n",
      "Epoch 177/200\n",
      "\u001b[1m5/5\u001b[0m \u001b[32m━━━━━━━━━━━━━━━━━━━━\u001b[0m\u001b[37m\u001b[0m \u001b[1m1s\u001b[0m 58ms/step - accuracy: 0.5798 - loss: 1.0623 - val_accuracy: 0.6786 - val_loss: 1.0831\n",
      "Epoch 178/200\n",
      "\u001b[1m5/5\u001b[0m \u001b[32m━━━━━━━━━━━━━━━━━━━━\u001b[0m\u001b[37m\u001b[0m \u001b[1m0s\u001b[0m 56ms/step - accuracy: 0.5303 - loss: 1.0717 - val_accuracy: 0.6786 - val_loss: 1.0829\n",
      "Epoch 179/200\n",
      "\u001b[1m5/5\u001b[0m \u001b[32m━━━━━━━━━━━━━━━━━━━━\u001b[0m\u001b[37m\u001b[0m \u001b[1m0s\u001b[0m 48ms/step - accuracy: 0.6214 - loss: 1.0706 - val_accuracy: 0.6786 - val_loss: 1.0834\n",
      "Epoch 180/200\n",
      "\u001b[1m5/5\u001b[0m \u001b[32m━━━━━━━━━━━━━━━━━━━━\u001b[0m\u001b[37m\u001b[0m \u001b[1m0s\u001b[0m 57ms/step - accuracy: 0.4635 - loss: 1.0863 - val_accuracy: 0.5000 - val_loss: 1.0833\n",
      "Epoch 181/200\n",
      "\u001b[1m5/5\u001b[0m \u001b[32m━━━━━━━━━━━━━━━━━━━━\u001b[0m\u001b[37m\u001b[0m \u001b[1m0s\u001b[0m 72ms/step - accuracy: 0.6011 - loss: 1.0628 - val_accuracy: 0.6786 - val_loss: 1.0831\n",
      "Epoch 182/200\n",
      "\u001b[1m5/5\u001b[0m \u001b[32m━━━━━━━━━━━━━━━━━━━━\u001b[0m\u001b[37m\u001b[0m \u001b[1m1s\u001b[0m 72ms/step - accuracy: 0.5330 - loss: 1.0729 - val_accuracy: 0.6786 - val_loss: 1.0828\n",
      "Epoch 183/200\n",
      "\u001b[1m5/5\u001b[0m \u001b[32m━━━━━━━━━━━━━━━━━━━━\u001b[0m\u001b[37m\u001b[0m \u001b[1m0s\u001b[0m 101ms/step - accuracy: 0.6039 - loss: 1.0823 - val_accuracy: 0.6786 - val_loss: 1.0830\n",
      "Epoch 184/200\n",
      "\u001b[1m5/5\u001b[0m \u001b[32m━━━━━━━━━━━━━━━━━━━━\u001b[0m\u001b[37m\u001b[0m \u001b[1m1s\u001b[0m 84ms/step - accuracy: 0.5592 - loss: 1.0796 - val_accuracy: 0.6071 - val_loss: 1.0836\n",
      "Epoch 185/200\n",
      "\u001b[1m5/5\u001b[0m \u001b[32m━━━━━━━━━━━━━━━━━━━━\u001b[0m\u001b[37m\u001b[0m \u001b[1m0s\u001b[0m 86ms/step - accuracy: 0.5472 - loss: 1.0929 - val_accuracy: 0.6071 - val_loss: 1.0837\n",
      "Epoch 186/200\n",
      "\u001b[1m5/5\u001b[0m \u001b[32m━━━━━━━━━━━━━━━━━━━━\u001b[0m\u001b[37m\u001b[0m \u001b[1m1s\u001b[0m 85ms/step - accuracy: 0.5807 - loss: 1.0858 - val_accuracy: 0.6786 - val_loss: 1.0823\n",
      "Epoch 187/200\n",
      "\u001b[1m5/5\u001b[0m \u001b[32m━━━━━━━━━━━━━━━━━━━━\u001b[0m\u001b[37m\u001b[0m \u001b[1m0s\u001b[0m 77ms/step - accuracy: 0.6160 - loss: 1.0778 - val_accuracy: 0.6786 - val_loss: 1.0819\n",
      "Epoch 188/200\n",
      "\u001b[1m5/5\u001b[0m \u001b[32m━━━━━━━━━━━━━━━━━━━━\u001b[0m\u001b[37m\u001b[0m \u001b[1m1s\u001b[0m 81ms/step - accuracy: 0.6149 - loss: 1.0729 - val_accuracy: 0.6786 - val_loss: 1.0811\n",
      "Epoch 189/200\n",
      "\u001b[1m5/5\u001b[0m \u001b[32m━━━━━━━━━━━━━━━━━━━━\u001b[0m\u001b[37m\u001b[0m \u001b[1m1s\u001b[0m 62ms/step - accuracy: 0.5906 - loss: 1.0662 - val_accuracy: 0.6786 - val_loss: 1.0808\n",
      "Epoch 190/200\n",
      "\u001b[1m5/5\u001b[0m \u001b[32m━━━━━━━━━━━━━━━━━━━━\u001b[0m\u001b[37m\u001b[0m \u001b[1m1s\u001b[0m 90ms/step - accuracy: 0.5388 - loss: 1.0583 - val_accuracy: 0.6786 - val_loss: 1.0810\n",
      "Epoch 191/200\n",
      "\u001b[1m5/5\u001b[0m \u001b[32m━━━━━━━━━━━━━━━━━━━━\u001b[0m\u001b[37m\u001b[0m \u001b[1m1s\u001b[0m 72ms/step - accuracy: 0.5648 - loss: 1.0848 - val_accuracy: 0.6786 - val_loss: 1.0816\n",
      "Epoch 192/200\n",
      "\u001b[1m5/5\u001b[0m \u001b[32m━━━━━━━━━━━━━━━━━━━━\u001b[0m\u001b[37m\u001b[0m \u001b[1m1s\u001b[0m 67ms/step - accuracy: 0.5523 - loss: 1.0732 - val_accuracy: 0.6786 - val_loss: 1.0814\n",
      "Epoch 193/200\n",
      "\u001b[1m5/5\u001b[0m \u001b[32m━━━━━━━━━━━━━━━━━━━━\u001b[0m\u001b[37m\u001b[0m \u001b[1m1s\u001b[0m 75ms/step - accuracy: 0.5939 - loss: 1.0760 - val_accuracy: 0.6786 - val_loss: 1.0814\n",
      "Epoch 194/200\n",
      "\u001b[1m5/5\u001b[0m \u001b[32m━━━━━━━━━━━━━━━━━━━━\u001b[0m\u001b[37m\u001b[0m \u001b[1m0s\u001b[0m 97ms/step - accuracy: 0.5826 - loss: 1.0762 - val_accuracy: 0.6786 - val_loss: 1.0819\n",
      "Epoch 195/200\n",
      "\u001b[1m5/5\u001b[0m \u001b[32m━━━━━━━━━━━━━━━━━━━━\u001b[0m\u001b[37m\u001b[0m \u001b[1m1s\u001b[0m 79ms/step - accuracy: 0.5804 - loss: 1.0757 - val_accuracy: 0.6786 - val_loss: 1.0817\n",
      "Epoch 196/200\n",
      "\u001b[1m5/5\u001b[0m \u001b[32m━━━━━━━━━━━━━━━━━━━━\u001b[0m\u001b[37m\u001b[0m \u001b[1m1s\u001b[0m 64ms/step - accuracy: 0.5611 - loss: 1.0677 - val_accuracy: 0.6786 - val_loss: 1.0813\n",
      "Epoch 197/200\n",
      "\u001b[1m5/5\u001b[0m \u001b[32m━━━━━━━━━━━━━━━━━━━━\u001b[0m\u001b[37m\u001b[0m \u001b[1m0s\u001b[0m 83ms/step - accuracy: 0.5739 - loss: 1.0747 - val_accuracy: 0.6786 - val_loss: 1.0814\n",
      "Epoch 198/200\n",
      "\u001b[1m5/5\u001b[0m \u001b[32m━━━━━━━━━━━━━━━━━━━━\u001b[0m\u001b[37m\u001b[0m \u001b[1m1s\u001b[0m 58ms/step - accuracy: 0.6136 - loss: 1.0750 - val_accuracy: 0.6786 - val_loss: 1.0813\n",
      "Epoch 199/200\n",
      "\u001b[1m5/5\u001b[0m \u001b[32m━━━━━━━━━━━━━━━━━━━━\u001b[0m\u001b[37m\u001b[0m \u001b[1m0s\u001b[0m 52ms/step - accuracy: 0.6015 - loss: 1.0745 - val_accuracy: 0.6786 - val_loss: 1.0806\n",
      "Epoch 200/200\n",
      "\u001b[1m5/5\u001b[0m \u001b[32m━━━━━━━━━━━━━━━━━━━━\u001b[0m\u001b[37m\u001b[0m \u001b[1m0s\u001b[0m 73ms/step - accuracy: 0.5553 - loss: 1.0798 - val_accuracy: 0.6786 - val_loss: 1.0808\n"
     ]
    }
   ],
   "source": [
    "#Implementing early stopping\n",
    "from tensorflow.keras.callbacks import EarlyStopping\n",
    "early_stopping = EarlyStopping(monitor='val_loss', patience=10, restore_best_weights=True)\n",
    "\n",
    "#history = model.fit(X_train, y_train, epochs=100, validation_data=(X_test, y_test), callbacks=[early_stopping])\n",
    "history = model.fit(\n",
    "    X_train_combined, y_train_combined,\n",
    "    epochs=200,\n",
    "    batch_size=32,\n",
    "    validation_data=(X_test, y_test),\n",
    "    #callbacks=[early_stopping],\n",
    "    class_weight=class_weights  # Add class weights here\n",
    ")"
   ]
  },
  {
   "cell_type": "code",
   "execution_count": 33,
   "id": "f4c7f92c-dc3b-4db8-b7f2-2be2b522aa8f",
   "metadata": {},
   "outputs": [
    {
     "name": "stdout",
     "output_type": "stream",
     "text": [
      "\u001b[1m1/1\u001b[0m \u001b[32m━━━━━━━━━━━━━━━━━━━━\u001b[0m\u001b[37m\u001b[0m \u001b[1m0s\u001b[0m 100ms/step\n"
     ]
    },
    {
     "data": {
      "image/png": "[encoded data removed]",
      "text/plain": [
       "<Figure size 640x480 with 2 Axes>"
      ]
     },
     "metadata": {},
     "output_type": "display_data"
    }
   ],
   "source": [
    "from sklearn.metrics import confusion_matrix\n",
    "import seaborn as sns\n",
    "\n",
    "y_pred = model.predict(X_test)\n",
    "y_pred_classes = np.argmax(y_pred, axis=1)\n",
    "y_true_classes = np.argmax(y_test, axis=1)\n",
    "\n",
    "cm = confusion_matrix(y_true_classes, y_pred_classes)\n",
    "sns.heatmap(cm, annot=True, fmt='d', cmap='Blues')\n",
    "plt.xlabel('Predicted')\n",
    "plt.ylabel('True')\n",
    "plt.show()"
   ]
  },
  {
   "cell_type": "code",
   "execution_count": 118,
   "id": "968aa830-adec-4cba-b0ba-36649616a0b7",
   "metadata": {},
   "outputs": [],
   "source": [
    "# from sklearn.ensemble import RandomForestClassifier\n",
    "# from sklearn.metrics import accuracy_score\n",
    "\n",
    "# # Flatten the features\n",
    "# X_flat = X.reshape(X.shape[0], -1)\n",
    "\n",
    "# # Train a Random Forest model\n",
    "# rf = RandomForestClassifier(n_estimators=100, class_weight='balanced')\n",
    "# rf.fit(X_flat, y_train_labels)\n",
    "\n",
    "# # Evaluate\n",
    "# y_pred = rf.predict(X_test.reshape(X_test.shape[0], -1))\n",
    "# accuracy = accuracy_score(np.argmax(y_test, axis=1), y_pred)\n",
    "# print(\"Random Forest Accuracy:\", accuracy)"
   ]
  },
  {
   "cell_type": "markdown",
   "id": "6e43c633-6fb7-4411-995e-84023eb2ffb9",
   "metadata": {},
   "source": [
    "**Evaluation**"
   ]
  },
  {
   "cell_type": "code",
   "execution_count": 34,
   "id": "f6ec4bd6-b1ee-47d1-b986-3e1ba1bec77f",
   "metadata": {},
   "outputs": [
    {
     "name": "stdout",
     "output_type": "stream",
     "text": [
      "\u001b[1m1/1\u001b[0m \u001b[32m━━━━━━━━━━━━━━━━━━━━\u001b[0m\u001b[37m\u001b[0m \u001b[1m0s\u001b[0m 220ms/step - accuracy: 0.6786 - loss: 1.0808\n",
      "Test Loss: 1.0808191299438477\n",
      "Test Accuracy: 0.6785714030265808\n"
     ]
    }
   ],
   "source": [
    "# Evaluate the model on the test set\n",
    "test_loss, test_accuracy = model.evaluate(X_test, y_test)\n",
    "\n",
    "print(f\"Test Loss: {test_loss}\")\n",
    "print(f\"Test Accuracy: {test_accuracy}\")\n"
   ]
  },
  {
   "cell_type": "code",
   "execution_count": 35,
   "id": "b7c0cca6-a8b2-4202-bebf-c7ab05af4ba1",
   "metadata": {},
   "outputs": [
    {
     "name": "stdout",
     "output_type": "stream",
     "text": [
      "              precision    recall  f1-score   support\n",
      "\n",
      "           0       0.57      1.00      0.73        12\n",
      "           1       1.00      0.57      0.73         7\n",
      "           2       1.00      0.33      0.50         9\n",
      "\n",
      "    accuracy                           0.68        28\n",
      "   macro avg       0.86      0.63      0.65        28\n",
      "weighted avg       0.82      0.68      0.65        28\n",
      "\n"
     ]
    }
   ],
   "source": [
    "from sklearn.metrics import classification_report\n",
    "\n",
    "print(classification_report(y_true_classes, y_pred_classes))"
   ]
  },
  {
   "cell_type": "code",
   "execution_count": 36,
   "id": "660297c1-6112-4eab-83f4-479a9570993d",
   "metadata": {},
   "outputs": [
    {
     "name": "stderr",
     "output_type": "stream",
     "text": [
      "WARNING:absl:You are saving your model as an HDF5 file via `model.save()` or `keras.saving.save_model(model)`. This file format is considered legacy. We recommend using instead the native Keras format, e.g. `model.save('my_model.keras')` or `keras.saving.save_model(model, 'my_model.keras')`. \n"
     ]
    }
   ],
   "source": [
    "model.save('eeg_model2.h5')"
   ]
  },
  {
   "cell_type": "code",
   "execution_count": 37,
   "id": "bd545a2a-1e78-4ef5-8051-d38130d373e3",
   "metadata": {},
   "outputs": [],
   "source": [
    "model.save('eeg_model2.keras')"
   ]
  },
  {
   "cell_type": "code",
   "execution_count": null,
   "id": "71fd6371-db0a-4d2a-8707-4eeafaa265e5",
   "metadata": {},
   "outputs": [],
   "source": [
    "#  #Building the CNN model\n",
    "# from tensorflow.keras import models, layers\n",
    "\n",
    "# #Build the CNN model\n",
    "# model = models.Sequential()\n",
    "\n",
    "# #1st convolution layer\n",
    "# model.add(layers.Conv2D(32, (3, 3), activation='relu',padding='same', input_shape=(X.shape[1], X.shape[2], 1)))\n",
    "# model.add(layers.BatchNormalization())\n",
    "# model.add(layers.MaxPooling2D((2, 2)))\n",
    "# model.add(layers.Dropout(0.25))\n",
    "\n",
    "# #2nd convolution layer\n",
    "# model.add(layers.Conv2D(64, (3,3), activation='relu', padding='same'))\n",
    "# model.add(layers.BatchNormalization())\n",
    "# model.add(layers.MaxPooling2D((2, 2)))\n",
    "# model.add(layers.Dropout(0.25))\n",
    "\n",
    "# #3rd convolution layer\n",
    "# model.add(layers.Conv2D(128, (3, 3), activation='relu',padding='same'))\n",
    "# model.add(layers.BatchNormalization())\n",
    "# model.add(layers.MaxPooling2D((2, 2)))\n",
    "# model.add(layers.Dropout(0.25))\n",
    "\n",
    "# #Flatten the feature maps to feed into fully connected layers\n",
    "# model.add(layers.Flatten())\n",
    "\n",
    "# #Fully coonected layer\n",
    "# model.add(layers.Dense(128, activation='relu'))\n",
    "# model.add(layers.BatchNormalization())\n",
    "# model.add(layers.Dropout(0.5))\n",
    "\n",
    "# #Output layer (3 classes: AD, FTD, CN)\n",
    "# model.add(layers.Dense(3, activation='softmax'))\n",
    "\n",
    "\n",
    "# #Summarize the model\n",
    "# model.summary()"
   ]
  }
 ],
 "metadata": {
  "kernelspec": {
   "display_name": "Python 3 (ipykernel)",
   "language": "python",
   "name": "python3"
  },
  "language_info": {
   "codemirror_mode": {
    "name": "ipython",
    "version": 3
   },
   "file_extension": ".py",
   "mimetype": "text/x-python",
   "name": "python",
   "nbconvert_exporter": "python",
   "pygments_lexer": "ipython3",
   "version": "3.11.4"
  }
 },
 "nbformat": 4,
 "nbformat_minor": 5
}
